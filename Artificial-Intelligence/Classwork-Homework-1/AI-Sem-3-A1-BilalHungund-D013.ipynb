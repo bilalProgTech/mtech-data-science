{
 "cells": [
  {
   "cell_type": "markdown",
   "metadata": {},
   "source": [
    "# Downloading the data"
   ]
  },
  {
   "cell_type": "code",
   "execution_count": null,
   "metadata": {
    "colab": {
     "base_uri": "https://localhost:8080/",
     "height": 54
    },
    "colab_type": "code",
    "id": "uBsBBNysuBXu",
    "outputId": "e3d0ad77-3185-4f00-8697-6589cba967a2"
   },
   "outputs": [],
   "source": [
    "from google.colab import drive\n",
    "drive.mount('/content/gdrive')"
   ]
  },
  {
   "cell_type": "code",
   "execution_count": null,
   "metadata": {
    "colab": {},
    "colab_type": "code",
    "id": "pAKCexPYusvt"
   },
   "outputs": [],
   "source": [
    "import os\n",
    "os.environ['KAGGLE_CONFIG_DIR'] = '/content/gdrive/My Drive/Kaggle'"
   ]
  },
  {
   "cell_type": "code",
   "execution_count": null,
   "metadata": {
    "colab": {
     "base_uri": "https://localhost:8080/",
     "height": 34
    },
    "colab_type": "code",
    "id": "iuRcpbrMvN2w",
    "outputId": "e0f44451-03ef-4850-a900-4a7137f42a0a"
   },
   "outputs": [],
   "source": [
    "!pwd"
   ]
  },
  {
   "cell_type": "code",
   "execution_count": null,
   "metadata": {
    "colab": {
     "base_uri": "https://localhost:8080/",
     "height": 544
    },
    "colab_type": "code",
    "id": "p9gqaqNvvYkk",
    "outputId": "a3d8da16-07cb-4aec-e0bc-cd39afdd5b3e"
   },
   "outputs": [],
   "source": [
    "! kaggle competitions download -c home-credit-default-risk"
   ]
  },
  {
   "cell_type": "code",
   "execution_count": null,
   "metadata": {
    "colab": {
     "base_uri": "https://localhost:8080/",
     "height": 442
    },
    "colab_type": "code",
    "id": "yHTND5PLvgRi",
    "outputId": "e142e510-7b15-4a35-ae2a-0e55c5ca78e3"
   },
   "outputs": [],
   "source": [
    "!unzip \\*.zip  && rm *.zip"
   ]
  },
  {
   "cell_type": "markdown",
   "metadata": {},
   "source": [
    "# Data Uploading"
   ]
  },
  {
   "cell_type": "code",
   "execution_count": null,
   "metadata": {
    "colab": {},
    "colab_type": "code",
    "id": "aA1mjn5ExVl7"
   },
   "outputs": [],
   "source": [
    "import pandas as pd\n",
    "import numpy as np"
   ]
  },
  {
   "cell_type": "code",
   "execution_count": null,
   "metadata": {
    "colab": {},
    "colab_type": "code",
    "id": "ppxuFvHywIB8"
   },
   "outputs": [],
   "source": [
    "pos_cash_balance = pd.read_csv('/content/POS_CASH_balance.csv')\n",
    "train = pd.read_csv('/content/application_train.csv')\n",
    "test = pd.read_csv('/content/application_test.csv')\n",
    "bureau = pd.read_csv('/content/bureau.csv')\n",
    "bureau_balance = pd.read_csv('/content/bureau_balance.csv')\n",
    "cc_balance = pd.read_csv('/content/credit_card_balance.csv')\n",
    "ins_payment = pd.read_csv('/content/installments_payments.csv')\n",
    "prev_app = pd.read_csv('/content/previous_application.csv')"
   ]
  },
  {
   "cell_type": "markdown",
   "metadata": {},
   "source": [
    "# Understanding the data"
   ]
  },
  {
   "cell_type": "code",
   "execution_count": null,
   "metadata": {
    "colab": {
     "base_uri": "https://localhost:8080/",
     "height": 224
    },
    "colab_type": "code",
    "id": "DzNWQx8PxNHy",
    "outputId": "e46bbfb2-7733-4d79-b045-e36b54368838"
   },
   "outputs": [],
   "source": [
    "pos_cash_balance.head()"
   ]
  },
  {
   "cell_type": "code",
   "execution_count": null,
   "metadata": {
    "colab": {
     "base_uri": "https://localhost:8080/",
     "height": 321
    },
    "colab_type": "code",
    "id": "57GZ0iw5xsXO",
    "outputId": "c16c8ecc-fc9e-4913-eea8-ddcb0d82f608"
   },
   "outputs": [],
   "source": [
    "train.head()"
   ]
  },
  {
   "cell_type": "code",
   "execution_count": null,
   "metadata": {
    "colab": {
     "base_uri": "https://localhost:8080/",
     "height": 275
    },
    "colab_type": "code",
    "id": "HXPerDXoxvkL",
    "outputId": "d8c24ad0-3e30-4585-9313-10f63bf433ae"
   },
   "outputs": [],
   "source": [
    "bureau.head()"
   ]
  },
  {
   "cell_type": "code",
   "execution_count": null,
   "metadata": {
    "colab": {
     "base_uri": "https://localhost:8080/",
     "height": 204
    },
    "colab_type": "code",
    "id": "w4PZ77JSyqRI",
    "outputId": "2ba799fa-e7f1-4834-da77-99501405a2dd"
   },
   "outputs": [],
   "source": [
    "bureau_balance.head()"
   ]
  },
  {
   "cell_type": "code",
   "execution_count": null,
   "metadata": {
    "colab": {
     "base_uri": "https://localhost:8080/",
     "height": 224
    },
    "colab_type": "code",
    "id": "ABON0doiyuOz",
    "outputId": "3b9aec47-5eda-48a6-a455-3f5514242911"
   },
   "outputs": [],
   "source": [
    "cc_balance.head()"
   ]
  },
  {
   "cell_type": "code",
   "execution_count": null,
   "metadata": {
    "colab": {
     "base_uri": "https://localhost:8080/",
     "height": 224
    },
    "colab_type": "code",
    "id": "x4viwAt7zFx6",
    "outputId": "7d2517e2-7346-42c7-ed04-1713fab29a95"
   },
   "outputs": [],
   "source": [
    "ins_payment.head()"
   ]
  },
  {
   "cell_type": "code",
   "execution_count": null,
   "metadata": {
    "colab": {
     "base_uri": "https://localhost:8080/",
     "height": 292
    },
    "colab_type": "code",
    "id": "NZT_dWzvzLD6",
    "outputId": "53172e0e-02c1-4c72-b264-e220300e46b2"
   },
   "outputs": [],
   "source": [
    "prev_app.head()"
   ]
  },
  {
   "cell_type": "code",
   "execution_count": null,
   "metadata": {
    "colab": {
     "base_uri": "https://localhost:8080/",
     "height": 153
    },
    "colab_type": "code",
    "id": "hiIe4rBkx_Cz",
    "outputId": "e43a1e04-7b55-44e9-a7cc-dbeb12152438"
   },
   "outputs": [],
   "source": [
    "train.shape, test.shape, bureau.shape, bureau_balance.shape, cc_balance.shape, ins_payment.shape, prev_app.shape, pos_cash_balance.shape"
   ]
  },
  {
   "cell_type": "code",
   "execution_count": null,
   "metadata": {
    "colab": {
     "base_uri": "https://localhost:8080/",
     "height": 34
    },
    "colab_type": "code",
    "id": "QtYep-AoyTLa",
    "outputId": "7c1aaa3e-6589-4a80-d95d-93b5f9f60345"
   },
   "outputs": [],
   "source": [
    "combine = train.append(test)\n",
    "combine.shape"
   ]
  },
  {
   "cell_type": "markdown",
   "metadata": {},
   "source": [
    "# Preprocessing Bureau data section\n",
    "\n",
    "First SK_ID_CURR are grouped-by and their aggregates are fetched into the list which then move into the new dataframe of bureau."
   ]
  },
  {
   "cell_type": "code",
   "execution_count": null,
   "metadata": {
    "colab": {
     "base_uri": "https://localhost:8080/",
     "height": 85
    },
    "colab_type": "code",
    "id": "2V0oZ0EDC7Az",
    "outputId": "3abac72f-7772-4eb3-95be-564ca5ecc7cb"
   },
   "outputs": [],
   "source": [
    "bureau_balance.isnull().sum() / bureau.shape[0]"
   ]
  },
  {
   "cell_type": "code",
   "execution_count": null,
   "metadata": {
    "colab": {},
    "colab_type": "code",
    "id": "c94fonEbDB3Q"
   },
   "outputs": [],
   "source": [
    "bureau_balance_grouping = bureau_balance.groupby('SK_ID_BUREAU')\n",
    "bureau_ids = bureau_balance.drop_duplicates('SK_ID_BUREAU')['SK_ID_BUREAU'].tolist()\n",
    "\n",
    "months_balance_list = []\n",
    "status_list = []\n",
    "\n",
    "for id in bureau_ids:\n",
    "  months_balance_list.append(bureau_balance_grouping.get_group(id)['MONTHS_BALANCE'].agg('sum'))\n",
    "  status_list.append(np.unique(bureau_balance_grouping.get_group(id)['STATUS']).tolist())\n",
    "\n",
    "bb_dict = {'SK_ID_BUREAU': bureau_ids,\n",
    "           'MONTHS_BALANCE':months_balance_list, \n",
    "           'STATUS': status_list}\n",
    "new_bb = pd.DataFrame(bb_dict)\n",
    "new_bb.head()"
   ]
  },
  {
   "cell_type": "code",
   "execution_count": null,
   "metadata": {
    "colab": {},
    "colab_type": "code",
    "id": "PCszjErdFGB6"
   },
   "outputs": [],
   "source": [
    "len(bureau_ids)"
   ]
  },
  {
   "cell_type": "code",
   "execution_count": null,
   "metadata": {
    "colab": {},
    "colab_type": "code",
    "id": "A8rYFAmPFGUV"
   },
   "outputs": [],
   "source": [
    "bureau = pd.merge(bureau, new_bb)\n",
    "bureau.head()"
   ]
  },
  {
   "cell_type": "code",
   "execution_count": null,
   "metadata": {
    "colab": {},
    "colab_type": "code",
    "id": "D67yc_WJ4aTq"
   },
   "outputs": [],
   "source": [
    "bureau.isnull().sum() / bureau.shape[0]"
   ]
  },
  {
   "cell_type": "code",
   "execution_count": null,
   "metadata": {
    "colab": {},
    "colab_type": "code",
    "id": "VKUNLGXH49aP"
   },
   "outputs": [],
   "source": [
    "bureau.describe()"
   ]
  },
  {
   "cell_type": "code",
   "execution_count": null,
   "metadata": {
    "colab": {},
    "colab_type": "code",
    "id": "OZDolf8D4pe7"
   },
   "outputs": [],
   "source": [
    "bureau = bureau.drop(['AMT_CREDIT_MAX_OVERDUE', 'AMT_ANNUITY'], axis=1)\n",
    "bureau.fillna(0, inplace=True)"
   ]
  },
  {
   "cell_type": "code",
   "execution_count": null,
   "metadata": {
    "colab": {},
    "colab_type": "code",
    "id": "3rJPudWm5qrI"
   },
   "outputs": [],
   "source": [
    "bureau.head()"
   ]
  },
  {
   "cell_type": "code",
   "execution_count": null,
   "metadata": {
    "colab": {},
    "colab_type": "code",
    "id": "ooQaf8w27xVb"
   },
   "outputs": [],
   "source": [
    "bureau.columns"
   ]
  },
  {
   "cell_type": "code",
   "execution_count": null,
   "metadata": {
    "colab": {},
    "colab_type": "code",
    "id": "9eSeMOvY5MzO"
   },
   "outputs": [],
   "source": [
    "bureau_grouping = bureau.groupby('SK_ID_CURR')\n",
    "sk_ids = bureau.drop_duplicates('SK_ID_CURR')['SK_ID_CURR'].tolist()\n",
    "\n",
    "credit_active_list = []\n",
    "credit_curr_list = []\n",
    "credit_type_list = []\n",
    "DAYS_CREDIT_list = []\n",
    "CREDIT_DAY_OVERDUE_list = []\n",
    "DAYS_CREDIT_ENDDATE_list = []\n",
    "DAYS_ENDDATE_FACT_list = [] \n",
    "CNT_CREDIT_PROLONG_list = []\n",
    "AMT_CREDIT_SUM_list = []\n",
    "AMT_CREDIT_SUM_DEBT_list = []\n",
    "AMT_CREDIT_SUM_LIMIT_list = []\n",
    "AMT_CREDIT_SUM_OVERDUE_list = []\n",
    "DAYS_CREDIT_UPDATE_list = []\n",
    "MONTHS_BALANCE_list = []\n",
    "STATUS_list = []\n",
    "i = 1\n",
    "\n",
    "from matplotlib.cbook import flatten\n",
    "\n",
    "print('Unique IDs:', len(sk_ids))\n",
    "\n",
    "for id in sk_ids:\n",
    "  credit_active_list.append(np.unique(bureau_grouping.get_group(id)['CREDIT_ACTIVE']).tolist())\n",
    "  credit_curr_list.append(np.unique(bureau_grouping.get_group(id)['CREDIT_CURRENCY']).tolist())\n",
    "  credit_type_list.append(np.unique(bureau_grouping.get_group(id)['CREDIT_TYPE']).tolist())\n",
    "  DAYS_CREDIT_list.append(bureau_grouping.get_group(id)['DAYS_CREDIT'].agg('sum'))\n",
    "  CREDIT_DAY_OVERDUE_list.append(bureau_grouping.get_group(id)['CREDIT_DAY_OVERDUE'].agg('sum'))\n",
    "  DAYS_CREDIT_ENDDATE_list.append(bureau_grouping.get_group(id)['DAYS_CREDIT_ENDDATE'].agg('mean'))\n",
    "  DAYS_ENDDATE_FACT_list.append(bureau_grouping.get_group(id)['DAYS_ENDDATE_FACT'].agg('sum'))\n",
    "  CNT_CREDIT_PROLONG_list.append(bureau_grouping.get_group(id)['CNT_CREDIT_PROLONG'].agg('sum'))\n",
    "  AMT_CREDIT_SUM_list.append(bureau_grouping.get_group(id)['AMT_CREDIT_SUM'].agg('mean'))\n",
    "  AMT_CREDIT_SUM_DEBT_list.append(bureau_grouping.get_group(id)['AMT_CREDIT_SUM_DEBT'].agg('mean'))\n",
    "  AMT_CREDIT_SUM_LIMIT_list.append(bureau_grouping.get_group(id)['AMT_CREDIT_SUM_LIMIT'].agg('mean'))\n",
    "  AMT_CREDIT_SUM_OVERDUE_list.append(bureau_grouping.get_group(id)['AMT_CREDIT_SUM_OVERDUE'].agg('mean'))\n",
    "  DAYS_CREDIT_UPDATE_list.append(bureau_grouping.get_group(id)['DAYS_CREDIT_UPDATE'].agg('mean'))\n",
    "  MONTHS_BALANCE_list.append(bureau_grouping.get_group(id)['MONTHS_BALANCE'].agg('sum'))\n",
    "  statuslists = bureau_grouping.get_group(id)['STATUS'].tolist()\n",
    "  STATUS_list.append(np.unique(list(flatten(statuslists))))\n",
    "\n",
    "bureau_dict = {'SK_ID_CURR': sk_ids,\n",
    "               'CREDIT_ACTIVE':credit_active_list, \n",
    "               'CREDIT_CURRENCY': credit_curr_list, \n",
    "               'DAYS_CREDIT': DAYS_CREDIT_list,\n",
    "               'CREDIT_DAY_OVERDUE': CREDIT_DAY_OVERDUE_list,\n",
    "               'DAYS_CREDIT_ENDDATE': DAYS_CREDIT_ENDDATE_list,\n",
    "               'DAYS_ENDDATE_FACT': DAYS_ENDDATE_FACT_list,\n",
    "               'CNT_CREDIT_PROLONG': CNT_CREDIT_PROLONG_list, \n",
    "               'AMT_CREDIT_SUM': AMT_CREDIT_SUM_list, \n",
    "               'AMT_CREDIT_SUM_DEBT': AMT_CREDIT_SUM_DEBT_list,\n",
    "               'AMT_CREDIT_SUM_OVERDUE': AMT_CREDIT_SUM_OVERDUE_list,\n",
    "               'CREDIT_TYPE': credit_type_list,\n",
    "               'DAYS_CREDIT_UPDATE': DAYS_CREDIT_UPDATE_list,\n",
    "               'MONTHS_BALANCE': MONTHS_BALANCE_list,\n",
    "               'STATUS': STATUS_list}\n",
    "      \n",
    "new_bureau = pd.DataFrame(data=bureau_dict)\n",
    "new_bureau.head()"
   ]
  },
  {
   "cell_type": "code",
   "execution_count": null,
   "metadata": {
    "colab": {},
    "colab_type": "code",
    "id": "LfucJO6NNf4n"
   },
   "outputs": [],
   "source": [
    "new_bureau['CREDIT_ACTIVE'] = new_bureau['CREDIT_ACTIVE'].astype('str').str.replace(\"'\",\"\")\n",
    "new_bureau['CREDIT_ACTIVE'] = new_bureau['CREDIT_ACTIVE'].astype('str').str.replace(\"]\",\"\")\n",
    "new_bureau['CREDIT_ACTIVE'] = new_bureau['CREDIT_ACTIVE'].astype('str').str.replace(\"[\",\"\")\n",
    "\n",
    "new_bureau['CREDIT_CURRENCY'] = new_bureau['CREDIT_CURRENCY'].astype('str').str.replace(\"'\",\"\")\n",
    "new_bureau['CREDIT_CURRENCY'] = new_bureau['CREDIT_CURRENCY'].astype('str').str.replace(\"]\",\"\")\n",
    "new_bureau['CREDIT_CURRENCY'] = new_bureau['CREDIT_CURRENCY'].astype('str').str.replace(\"[\",\"\")\n",
    "\n",
    "new_bureau['CREDIT_TYPE'] = new_bureau['CREDIT_TYPE'].astype('str').str.replace(\"'\",\"\")\n",
    "new_bureau['CREDIT_TYPE'] = new_bureau['CREDIT_TYPE'].astype('str').str.replace(\"]\",\"\")\n",
    "new_bureau['CREDIT_TYPE'] = new_bureau['CREDIT_TYPE'].astype('str').str.replace(\"[\",\"\")\n",
    "\n",
    "new_bureau = pd.concat([new_bureau, \n",
    "          new_bureau.CREDIT_ACTIVE.apply(lambda x: pd.Series(x.split(', ')).value_counts()).fillna(0)], \n",
    "          axis = 1)\n",
    "new_bureau = new_bureau.drop('CREDIT_ACTIVE', axis=1)\n",
    "\n",
    "new_bureau = pd.concat([new_bureau, \n",
    "          new_bureau.CREDIT_CURRENCY.apply(lambda x: pd.Series(x.split(', ')).value_counts()).fillna(0)], \n",
    "          axis = 1)\n",
    "new_bureau = new_bureau.drop('CREDIT_CURRENCY', axis=1)\n",
    "\n",
    "new_bureau = pd.concat([new_bureau, \n",
    "          new_bureau.CREDIT_TYPE.apply(lambda x: pd.Series(x.split(', ')).value_counts()).fillna(0)], \n",
    "          axis = 1)\n",
    "new_bureau = new_bureau.drop('CREDIT_TYPE', axis=1)"
   ]
  },
  {
   "cell_type": "code",
   "execution_count": null,
   "metadata": {
    "colab": {},
    "colab_type": "code",
    "id": "IKStKZYTa0Bu"
   },
   "outputs": [],
   "source": [
    "new_bureau.head()"
   ]
  },
  {
   "cell_type": "code",
   "execution_count": null,
   "metadata": {
    "colab": {},
    "colab_type": "code",
    "id": "Xeq3LNprdo2O"
   },
   "outputs": [],
   "source": [
    "new_bureau['STATUS'] = new_bureau['STATUS'].astype('str').str.replace(\"'\",\"\")\n",
    "new_bureau['STATUS'] = new_bureau['STATUS'].astype('str').str.replace(\"]\",\"\")\n",
    "new_bureau['STATUS'] = new_bureau['STATUS'].astype('str').str.replace(\"[\",\"\")"
   ]
  },
  {
   "cell_type": "code",
   "execution_count": null,
   "metadata": {
    "colab": {},
    "colab_type": "code",
    "id": "yvoRK9Xjdo71"
   },
   "outputs": [],
   "source": [
    "new_bureau = pd.concat([new_bureau, \n",
    "          new_bureau.STATUS.apply(lambda x: pd.Series(x.split(' ')).value_counts()).fillna(0)], \n",
    "          axis = 1)\n",
    "new_bureau = new_bureau.drop('STATUS', axis=1)"
   ]
  },
  {
   "cell_type": "code",
   "execution_count": null,
   "metadata": {
    "colab": {},
    "colab_type": "code",
    "id": "0hnSHQGydpGW"
   },
   "outputs": [],
   "source": [
    "new_bureau.head()"
   ]
  },
  {
   "cell_type": "code",
   "execution_count": null,
   "metadata": {
    "colab": {},
    "colab_type": "code",
    "id": "EQekQiZgdo5g"
   },
   "outputs": [],
   "source": [
    "new_bureau.to_csv('new_burean.csv', index=False)"
   ]
  },
  {
   "cell_type": "markdown",
   "metadata": {},
   "source": [
    "# Previous Application data preprocessing"
   ]
  },
  {
   "cell_type": "code",
   "execution_count": null,
   "metadata": {
    "colab": {},
    "colab_type": "code",
    "id": "w1smb9Rqdo0H"
   },
   "outputs": [],
   "source": [
    "cc_balance.isnull().sum() / cc_balance.shape[0]"
   ]
  },
  {
   "cell_type": "code",
   "execution_count": null,
   "metadata": {
    "colab": {},
    "colab_type": "code",
    "id": "uRRe7O2bfQKT"
   },
   "outputs": [],
   "source": [
    "cc_balance.head()"
   ]
  },
  {
   "cell_type": "code",
   "execution_count": null,
   "metadata": {
    "colab": {},
    "colab_type": "code",
    "id": "Awk46SN8jXXP"
   },
   "outputs": [],
   "source": [
    "len(cc_balance.drop_duplicates('SK_ID_PREV')['SK_ID_PREV'].tolist())"
   ]
  },
  {
   "cell_type": "code",
   "execution_count": null,
   "metadata": {
    "colab": {},
    "colab_type": "code",
    "id": "0n9CoRwyjhHj"
   },
   "outputs": [],
   "source": [
    "cc_balance_grouping = cc_balance.groupby('SK_ID_CURR')\n",
    "sk_prev_ids = cc_balance.drop_duplicates('SK_ID_CURR')['SK_ID_CURR'].tolist()\n",
    "\n",
    "MONTHS_BALANCE_list = []\n",
    "AMT_TOTAL_RECEIVABLE_list = []\n",
    "CNT_CURRENT_list = []\n",
    "CNT_INSTALMENT_MATURE_CUM_list = []\n",
    "NAME_CONTRACT_STATUS_list = []\n",
    "SK_DPD_list = []\n",
    "SK_DPD_DEF_list = []\n",
    "\n",
    "for id in sk_prev_ids:\n",
    "  MONTHS_BALANCE_list.append(cc_balance_grouping.get_group(id)['MONTHS_BALANCE'].agg('sum'))\n",
    "  AMT_TOTAL_RECEIVABLE_list.append(cc_balance_grouping.get_group(id)['AMT_TOTAL_RECEIVABLE'].agg('mean'))\n",
    "  CNT_CURRENT_list.append(cc_balance_grouping.get_group(id)['CNT_DRAWINGS_CURRENT'].agg('sum'))\n",
    "  CNT_INSTALMENT_MATURE_CUM_list.append(cc_balance_grouping.get_group(id)['CNT_INSTALMENT_MATURE_CUM'].agg('mean'))\n",
    "  NAME_CONTRACT_STATUS_list.append(np.unique(cc_balance_grouping.get_group(id)['NAME_CONTRACT_STATUS']).tolist())\n",
    "  SK_DPD_list.append(cc_balance_grouping.get_group(id)['SK_DPD'].agg('mean'))\n",
    "  SK_DPD_DEF_list.append(cc_balance_grouping.get_group(id)['SK_DPD_DEF'].agg('mean'))"
   ]
  },
  {
   "cell_type": "code",
   "execution_count": null,
   "metadata": {
    "colab": {
     "base_uri": "https://localhost:8080/",
     "height": 224
    },
    "colab_type": "code",
    "id": "WG0zA3Cf25qd",
    "outputId": "09921e1c-8612-4be7-e41c-c96a6d3a25ab"
   },
   "outputs": [],
   "source": [
    "cc_balance_dict = {'SK_ID_CURR': sk_prev_ids, \n",
    "                   'MONTHS_BALANCE': MONTHS_BALANCE_list,\n",
    "                   'AMT_TOTAL_RECEIVABLE':AMT_TOTAL_RECEIVABLE_list,\n",
    "                   'CNT_DRAWINGS_CURRENT':CNT_CURRENT_list,\n",
    "                   'CNT_INSTALMENT_MATURE_CUM':CNT_INSTALMENT_MATURE_CUM_list,\n",
    "                   'NAME_CONTRACT_STATUS':NAME_CONTRACT_STATUS_list,\n",
    "                   'SK_DPD':SK_DPD_list,\n",
    "                   'SK_DPD_DEF':SK_DPD_DEF_list}\n",
    "new_cc_balance = pd.DataFrame(cc_balance_dict)\n",
    "new_cc_balance.head()"
   ]
  },
  {
   "cell_type": "code",
   "execution_count": null,
   "metadata": {
    "colab": {},
    "colab_type": "code",
    "id": "Q1lFnmAFy_BY"
   },
   "outputs": [],
   "source": [
    "new_cc_balance.to_csv('new_cc_balance.csv', index=False)"
   ]
  },
  {
   "cell_type": "code",
   "execution_count": null,
   "metadata": {
    "colab": {},
    "colab_type": "code",
    "id": "SArvWyk7Ihbe"
   },
   "outputs": [],
   "source": [
    "new_cc_balance['NAME_CONTRACT_STATUS'] = new_cc_balance['NAME_CONTRACT_STATUS'].astype('str').str.replace(\"'\",\"\")\n",
    "new_cc_balance['NAME_CONTRACT_STATUS'] = new_cc_balance['NAME_CONTRACT_STATUS'].astype('str').str.replace(\"]\",\"\")\n",
    "new_cc_balance['NAME_CONTRACT_STATUS'] = new_cc_balance['NAME_CONTRACT_STATUS'].astype('str').str.replace(\"[\",\"\")\n",
    "\n",
    "new_cc_balance = pd.concat([new_cc_balance, \n",
    "          new_cc_balance.NAME_CONTRACT_STATUS.apply(lambda x: pd.Series(x.split(', ')).value_counts()).fillna(0)], \n",
    "          axis = 1)\n",
    "new_cc_balance = new_cc_balance.drop('NAME_CONTRACT_STATUS', axis=1)"
   ]
  },
  {
   "cell_type": "code",
   "execution_count": null,
   "metadata": {
    "colab": {
     "base_uri": "https://localhost:8080/",
     "height": 309
    },
    "colab_type": "code",
    "id": "oppEgFUk-6fV",
    "outputId": "f3e1eff5-3fca-46a9-d344-76de6defcdfc"
   },
   "outputs": [],
   "source": [
    "new_bureau.head()"
   ]
  },
  {
   "cell_type": "code",
   "execution_count": null,
   "metadata": {
    "colab": {
     "base_uri": "https://localhost:8080/",
     "height": 241
    },
    "colab_type": "code",
    "id": "a1fblViuHo1n",
    "outputId": "091317c2-095d-46c6-a8ed-80287316ca6f"
   },
   "outputs": [],
   "source": [
    "new_cc_balance.head()"
   ]
  },
  {
   "cell_type": "code",
   "execution_count": null,
   "metadata": {
    "colab": {
     "base_uri": "https://localhost:8080/",
     "height": 321
    },
    "colab_type": "code",
    "id": "I_LlKEUeItvT",
    "outputId": "15f3632d-9362-4487-cd99-10b2446295d1"
   },
   "outputs": [],
   "source": [
    "combine.head()"
   ]
  },
  {
   "cell_type": "markdown",
   "metadata": {},
   "source": [
    "# Merging the data"
   ]
  },
  {
   "cell_type": "code",
   "execution_count": null,
   "metadata": {
    "colab": {
     "base_uri": "https://localhost:8080/",
     "height": 51
    },
    "colab_type": "code",
    "id": "-PIpGSfKIuh7",
    "outputId": "139ff40e-16f0-4501-f9e8-4ec2bff75639"
   },
   "outputs": [],
   "source": [
    "combine = train.append(test)\n",
    "print(combine.shape)\n",
    "combine = pd.merge(combine, new_cc_balance, on='SK_ID_CURR', how='left')\n",
    "combine.shape"
   ]
  },
  {
   "cell_type": "code",
   "execution_count": null,
   "metadata": {
    "colab": {
     "base_uri": "https://localhost:8080/",
     "height": 34
    },
    "colab_type": "code",
    "id": "5gkeqQkUMmJd",
    "outputId": "e4318aaa-3b55-4602-a71f-91ff5cbd7315"
   },
   "outputs": [],
   "source": [
    "combine = pd.merge(combine, new_bureau, on='SK_ID_CURR', how='left')\n",
    "combine.shape"
   ]
  },
  {
   "cell_type": "markdown",
   "metadata": {},
   "source": [
    "# Filling the NA values"
   ]
  },
  {
   "cell_type": "code",
   "execution_count": null,
   "metadata": {
    "colab": {
     "base_uri": "https://localhost:8080/",
     "height": 136
    },
    "colab_type": "code",
    "id": "t2Ckmxu5Jajj",
    "outputId": "48e65130-6971-4b34-d45f-525cd1d25b6f"
   },
   "outputs": [],
   "source": [
    "print(len(combine.select_dtypes('object').columns))\n",
    "objects = combine.select_dtypes('object').columns\n",
    "combine[objects] = combine[objects].fillna('Unknown')\n",
    "combine.select_dtypes('object').columns"
   ]
  },
  {
   "cell_type": "code",
   "execution_count": null,
   "metadata": {
    "colab": {
     "base_uri": "https://localhost:8080/",
     "height": 170
    },
    "colab_type": "code",
    "id": "9YZp02QZKD84",
    "outputId": "09c13afe-5c6a-4bbd-b662-4873e39e2d87"
   },
   "outputs": [],
   "source": [
    "print(len(combine.select_dtypes('float64').columns))\n",
    "float64 = combine.select_dtypes('float64').columns[1:]\n",
    "combine[float64] = combine[float64].fillna(combine[float64].mean())\n",
    "combine.select_dtypes('float64').columns"
   ]
  },
  {
   "cell_type": "code",
   "execution_count": null,
   "metadata": {
    "colab": {
     "base_uri": "https://localhost:8080/",
     "height": 289
    },
    "colab_type": "code",
    "id": "cjYLMlpAKvEu",
    "outputId": "75a309b9-2b03-472c-99f4-df970dc5feef"
   },
   "outputs": [],
   "source": [
    "print(len(combine.select_dtypes('int64').columns))\n",
    "int64 = combine.select_dtypes('int64').columns\n",
    "combine[int64] = combine[int64].fillna(combine[int64].mean())\n",
    "combine.select_dtypes('int64').columns"
   ]
  },
  {
   "cell_type": "code",
   "execution_count": null,
   "metadata": {
    "colab": {
     "base_uri": "https://localhost:8080/",
     "height": 34
    },
    "colab_type": "code",
    "id": "JxvoZTAXLAoD",
    "outputId": "5261e3a2-fda6-4a41-86b8-cb78520a0364"
   },
   "outputs": [],
   "source": [
    "combine.isnull().sum().sum(), combine.shape"
   ]
  },
  {
   "cell_type": "code",
   "execution_count": null,
   "metadata": {
    "colab": {
     "base_uri": "https://localhost:8080/",
     "height": 34
    },
    "colab_type": "code",
    "id": "PgqI7_lZLLcE",
    "outputId": "c7157c03-1722-434a-9d92-929ef0edcd55"
   },
   "outputs": [],
   "source": [
    "combine = pd.get_dummies(combine)\n",
    "combine.shape"
   ]
  },
  {
   "cell_type": "markdown",
   "metadata": {},
   "source": [
    "# Data Preparation for modelling"
   ]
  },
  {
   "cell_type": "code",
   "execution_count": null,
   "metadata": {
    "colab": {
     "base_uri": "https://localhost:8080/",
     "height": 34
    },
    "colab_type": "code",
    "id": "2rW84hjfLo4O",
    "outputId": "139d2d3e-eeb7-4cd5-94d3-3d03c93ca014"
   },
   "outputs": [],
   "source": [
    "X = combine[combine['TARGET'].isnull()!=True].drop(['TARGET', 'SK_ID_CURR'], axis=1)\n",
    "y = combine[combine['TARGET'].isnull()!=True]['TARGET'].reset_index(drop=True)\n",
    "\n",
    "X_test = combine[combine['TARGET'].isnull()==True].drop(['TARGET','SK_ID_CURR'], axis=1)\n",
    "\n",
    "X.shape, y.shape, X_test.shape"
   ]
  },
  {
   "cell_type": "markdown",
   "metadata": {},
   "source": [
    "# Random Forest Classifier"
   ]
  },
  {
   "cell_type": "code",
   "execution_count": null,
   "metadata": {
    "colab": {
     "base_uri": "https://localhost:8080/",
     "height": 612
    },
    "colab_type": "code",
    "id": "x9v-chNTM3-l",
    "outputId": "025088e0-fa4c-4c7b-f136-fcfd6901ae0c"
   },
   "outputs": [],
   "source": [
    "err_as = []\n",
    "err_rs = []\n",
    "err_ps = []\n",
    "err_roc = []\n",
    "err_ll = []\n",
    "\n",
    "y_pred_tot_lgm = []\n",
    "features = X.columns\n",
    "feature_importance_df = pd.DataFrame()\n",
    "\n",
    "from sklearn.model_selection import KFold, StratifiedKFold\n",
    "from sklearn.metrics import confusion_matrix, recall_score, accuracy_score, precision_score, roc_auc_score, log_loss\n",
    "from sklearn.ensemble import RandomForestClassifier\n",
    "\n",
    "fold = StratifiedKFold(n_splits=5)\n",
    "i = 1\n",
    "for train_index, test_index in fold.split(X, y):\n",
    "    x_train, x_val = X.iloc[train_index], X.iloc[test_index]\n",
    "    y_train, y_val = y[train_index], y[test_index]\n",
    "    m = RandomForestClassifier()\n",
    "    m.fit(x_train, y_train)\n",
    "    pred_y = m.predict(x_val)\n",
    "    prob_pred = m.predict_proba(x_val)[:,1]\n",
    "    \n",
    "    fold_importance_df = pd.DataFrame()\n",
    "    fold_importance_df[\"Feature\"] = features\n",
    "    fold_importance_df[\"importance\"] = m.feature_importances_\n",
    "    fold_importance_df[\"fold\"] = i + 1\n",
    "    feature_importance_df = pd.concat([feature_importance_df, fold_importance_df], axis=0)\n",
    "    \n",
    "    print(\"Fold \",i, \" Accuracy: \",(accuracy_score(pred_y, y_val)))\n",
    "    print(\"Fold \",i, \" Recall: \",(recall_score(pred_y, y_val)))\n",
    "    print(\"Fold \",i, \" Precision: \",(precision_score(pred_y, y_val)))\n",
    "    print(\"Fold \",i, \" ROC AUC: \",(roc_auc_score(y_val, prob_pred)))\n",
    "    print(\"Fold \",i, \" Logloss: \",(log_loss(y_val, prob_pred)))\n",
    "    print(confusion_matrix(pred_y, y_val))\n",
    "\n",
    "    err_as.append(accuracy_score(pred_y, y_val))\n",
    "    err_rs.append(recall_score(pred_y, y_val))\n",
    "    err_ps.append(precision_score(pred_y, y_val))\n",
    "    err_roc.append(roc_auc_score(y_val, prob_pred))\n",
    "    err_ll.append(log_loss(y_val, prob_pred))\n",
    "\n",
    "    pred_test = m.predict_proba(X_test)[:,1]\n",
    "    i = i + 1\n",
    "    y_pred_tot_lgm.append(pred_test)"
   ]
  },
  {
   "cell_type": "code",
   "execution_count": null,
   "metadata": {
    "colab": {
     "base_uri": "https://localhost:8080/",
     "height": 102
    },
    "colab_type": "code",
    "id": "NLPx2JsfOwFR",
    "outputId": "9ba358ff-2685-4624-d09a-1ba4ad8e904d"
   },
   "outputs": [],
   "source": [
    "print('Mean Accuracy Score on CV-5: ', np.mean(err_as, 0))\n",
    "print('Mean Precision Score on CV-5: ', np.mean(err_ps, 0))\n",
    "print('Mean Recall Score on CV-5: ', np.mean(err_rs, 0))\n",
    "print('Mean ROC AUC Score on CV-5: ', np.mean(err_roc, 0))\n",
    "print('Mean Logloss Score on CV-5: ', np.mean(err_ll, 0))"
   ]
  },
  {
   "cell_type": "markdown",
   "metadata": {},
   "source": [
    "# Feature Engineering"
   ]
  },
  {
   "cell_type": "code",
   "execution_count": null,
   "metadata": {
    "colab": {
     "base_uri": "https://localhost:8080/",
     "height": 669
    },
    "colab_type": "code",
    "id": "xTfq3XVNYEEH",
    "outputId": "ff44def1-9b31-41a2-c8f4-04549818134a"
   },
   "outputs": [],
   "source": [
    "all_feat = feature_importance_df[[\"Feature\",\n",
    "                                  \"importance\"]].groupby(\"Feature\").mean().sort_values(by=\"importance\", \n",
    "                                                                                           ascending=False)\n",
    "all_feat.reset_index(inplace=True)\n",
    "important_feat = list(all_feat['Feature'])\n",
    "all_feat.head(20)"
   ]
  },
  {
   "cell_type": "markdown",
   "metadata": {},
   "source": [
    "Highly correlated data are neglected, threshold - 98%"
   ]
  },
  {
   "cell_type": "code",
   "execution_count": null,
   "metadata": {
    "colab": {
     "base_uri": "https://localhost:8080/",
     "height": 71
    },
    "colab_type": "code",
    "id": "55nNHCDFYDz5",
    "outputId": "b66a4c04-a37d-42c2-f13b-464bdfcae2f3"
   },
   "outputs": [],
   "source": [
    "df = X[important_feat]\n",
    "corr_matrix = df.corr().abs()\n",
    "\n",
    "upper = corr_matrix.where(np.triu(np.ones(corr_matrix.shape), k=1).astype(np.bool))\n",
    "\n",
    "high_cor = [column for column in upper.columns if any(upper[column] > 0.98)]\n",
    "print(len(high_cor))\n",
    "print(high_cor)"
   ]
  },
  {
   "cell_type": "code",
   "execution_count": null,
   "metadata": {
    "colab": {
     "base_uri": "https://localhost:8080/",
     "height": 71
    },
    "colab_type": "code",
    "id": "qI9ohiwPYDJm",
    "outputId": "abccd043-c362-4cdd-92d6-515b40b4cbc1"
   },
   "outputs": [],
   "source": [
    "features = [i for i in important_feat if i not in high_cor]\n",
    "print(len(features))\n",
    "print(features)"
   ]
  },
  {
   "cell_type": "code",
   "execution_count": null,
   "metadata": {
    "colab": {},
    "colab_type": "code",
    "id": "O8OjDuYEbCWj"
   },
   "outputs": [],
   "source": [
    "X1 = X[features]\n",
    "X_test1 = X_test[features]"
   ]
  },
  {
   "cell_type": "markdown",
   "metadata": {},
   "source": [
    "# Random Forest after feature engineering"
   ]
  },
  {
   "cell_type": "code",
   "execution_count": null,
   "metadata": {
    "colab": {
     "base_uri": "https://localhost:8080/",
     "height": 612
    },
    "colab_type": "code",
    "id": "XQ8pDVDBWzxe",
    "outputId": "7da4f9a2-6684-4e7d-8017-943d635ab0db"
   },
   "outputs": [],
   "source": [
    "err_as = []\n",
    "err_rs = []\n",
    "err_ps = []\n",
    "err_roc = []\n",
    "err_ll = []\n",
    "\n",
    "y_pred_tot_lgm = []\n",
    "\n",
    "fold = StratifiedKFold(n_splits=5)\n",
    "i = 1\n",
    "for train_index, test_index in fold.split(X1, y):\n",
    "    x_train, x_val = X1.iloc[train_index], X1.iloc[test_index]\n",
    "    y_train, y_val = y[train_index], y[test_index]\n",
    "    m = RandomForestClassifier()\n",
    "    m.fit(x_train, y_train)\n",
    "    pred_y = m.predict(x_val)\n",
    "    prob_pred = m.predict_proba(x_val)[:,1]\n",
    "    \n",
    "    print(\"Fold \",i, \" Accuracy: \",(accuracy_score(pred_y, y_val)))\n",
    "    print(\"Fold \",i, \" Recall: \",(recall_score(pred_y, y_val)))\n",
    "    print(\"Fold \",i, \" Precision: \",(precision_score(pred_y, y_val)))\n",
    "    print(\"Fold \",i, \" ROC AUC: \",(roc_auc_score(y_val, prob_pred)))\n",
    "    print(\"Fold \",i, \" Logloss: \",(log_loss(y_val, prob_pred)))\n",
    "    print(confusion_matrix(pred_y, y_val))\n",
    "\n",
    "    err_as.append(accuracy_score(pred_y, y_val))\n",
    "    err_rs.append(recall_score(pred_y, y_val))\n",
    "    err_ps.append(precision_score(pred_y, y_val))\n",
    "    err_roc.append(roc_auc_score(y_val, prob_pred))\n",
    "    err_ll.append(log_loss(y_val, prob_pred))\n",
    "\n",
    "    pred_test = m.predict_proba(X_test1)[:,1]\n",
    "    i = i + 1\n",
    "    y_pred_tot_lgm.append(pred_test)"
   ]
  },
  {
   "cell_type": "code",
   "execution_count": null,
   "metadata": {
    "colab": {
     "base_uri": "https://localhost:8080/",
     "height": 102
    },
    "colab_type": "code",
    "id": "cncYYF67XEmf",
    "outputId": "170c6a97-7fcd-42eb-f6d7-97ac54037943"
   },
   "outputs": [],
   "source": [
    "print('Mean Accuracy Score on CV-5: ', np.mean(err_as, 0))\n",
    "print('Mean Precision Score on CV-5: ', np.mean(err_ps, 0))\n",
    "print('Mean Recall Score on CV-5: ', np.mean(err_rs, 0))\n",
    "print('Mean ROC AUC Score on CV-5: ', np.mean(err_roc, 0))\n",
    "print('Mean Logloss Score on CV-5: ', np.mean(err_ll, 0))"
   ]
  },
  {
   "cell_type": "markdown",
   "metadata": {},
   "source": [
    "# Logistic Regression"
   ]
  },
  {
   "cell_type": "code",
   "execution_count": null,
   "metadata": {
    "colab": {
     "base_uri": "https://localhost:8080/",
     "height": 1000
    },
    "colab_type": "code",
    "id": "i6xEfpgZXIcz",
    "outputId": "1844cc2b-e3b0-4e2b-dd90-52cc166cb2a3"
   },
   "outputs": [],
   "source": [
    "err_as_lreg = []\n",
    "err_rs_lreg = []\n",
    "err_ps_lreg = []\n",
    "err_roc_lreg = []\n",
    "err_ll_lreg = []\n",
    "\n",
    "y_pred_tot_logreg = []\n",
    "\n",
    "from sklearn.linear_model import LogisticRegression\n",
    "\n",
    "fold = StratifiedKFold(n_splits=5)\n",
    "i = 1\n",
    "for train_index, test_index in fold.split(X1, y):\n",
    "    x_train, x_val = X1.iloc[train_index], X1.iloc[test_index]\n",
    "    y_train, y_val = y[train_index], y[test_index]\n",
    "    m = LogisticRegression()\n",
    "    m.fit(x_train, y_train)\n",
    "    pred_y = m.predict(x_val)\n",
    "    prob_pred = m.predict_proba(x_val)[:,1]\n",
    "    \n",
    "    print(\"Fold \",i, \" Accuracy: \",(accuracy_score(pred_y, y_val)))\n",
    "    print(\"Fold \",i, \" Recall: \",(recall_score(pred_y, y_val)))\n",
    "    print(\"Fold \",i, \" Precision: \",(precision_score(pred_y, y_val)))\n",
    "    print(\"Fold \",i, \" ROC AUC: \",(roc_auc_score(y_val, prob_pred)))\n",
    "    print(\"Fold \",i, \" Logloss: \",(log_loss(y_val, prob_pred)))\n",
    "    print(confusion_matrix(pred_y, y_val))\n",
    "\n",
    "    err_as_lreg.append(accuracy_score(pred_y, y_val))\n",
    "    err_rs_lreg.append(recall_score(pred_y, y_val))\n",
    "    err_ps_lreg.append(precision_score(pred_y, y_val))\n",
    "    err_roc_lreg.append(roc_auc_score(y_val, prob_pred))\n",
    "    err_ll_lreg.append(log_loss(y_val, prob_pred))\n",
    "\n",
    "    pred_test = m.predict_proba(X_test1)[:,1]\n",
    "    i = i + 1\n",
    "    y_pred_tot_logreg.append(pred_test)"
   ]
  },
  {
   "cell_type": "code",
   "execution_count": null,
   "metadata": {
    "colab": {
     "base_uri": "https://localhost:8080/",
     "height": 102
    },
    "colab_type": "code",
    "id": "2502UUyen1F-",
    "outputId": "706141bf-dfab-4f99-9c92-cf3589ebaf46"
   },
   "outputs": [],
   "source": [
    "print('Mean Accuracy Score on CV-5: ', np.mean(err_as_lreg, 0))\n",
    "print('Mean Precision Score on CV-5: ', np.mean(err_ps_lreg, 0))\n",
    "print('Mean Recall Score on CV-5: ', np.mean(err_rs_lreg, 0))\n",
    "print('Mean ROC AUC Score on CV-5: ', np.mean(err_roc_lreg, 0))\n",
    "print('Mean Logloss Score on CV-5: ', np.mean(err_ll_lreg, 0))"
   ]
  },
  {
   "cell_type": "markdown",
   "metadata": {},
   "source": [
    "# Submission file of test set for competition"
   ]
  },
  {
   "cell_type": "code",
   "execution_count": null,
   "metadata": {
    "colab": {
     "base_uri": "https://localhost:8080/",
     "height": 204
    },
    "colab_type": "code",
    "id": "ubyveG6ZomrN",
    "outputId": "64f654ba-5c35-4283-d694-104a9bb4a32a"
   },
   "outputs": [],
   "source": [
    "submission = pd.DataFrame()\n",
    "submission['SK_ID_CURR'] = test['SK_ID_CURR']\n",
    "submission['TARGET'] = np.mean(y_pred_tot_lgm, 0)\n",
    "submission.head()"
   ]
  },
  {
   "cell_type": "code",
   "execution_count": null,
   "metadata": {
    "colab": {},
    "colab_type": "code",
    "id": "RcbS4Q1lo1Vt"
   },
   "outputs": [],
   "source": [
    "submission.to_csv('submission.csv', index=False)"
   ]
  }
 ],
 "metadata": {
  "colab": {
   "collapsed_sections": [],
   "name": "AI-Sem3-A1-BilalHungund-D013.ipynb",
   "provenance": []
  },
  "kernelspec": {
   "display_name": "Python 3",
   "language": "python",
   "name": "python3"
  },
  "language_info": {
   "codemirror_mode": {
    "name": "ipython",
    "version": 3
   },
   "file_extension": ".py",
   "mimetype": "text/x-python",
   "name": "python",
   "nbconvert_exporter": "python",
   "pygments_lexer": "ipython3",
   "version": "3.7.3"
  }
 },
 "nbformat": 4,
 "nbformat_minor": 1
}
