{
 "cells": [
  {
   "cell_type": "markdown",
   "metadata": {},
   "source": [
    "# Q1 & Q2)\n",
    "\n",
    "Difference between tensor and matrix with different operations on it\n",
    "\n",
    "https://www.continuummechanics.org/matrices.html"
   ]
  },
  {
   "cell_type": "markdown",
   "metadata": {},
   "source": [
    "# Q3"
   ]
  },
  {
   "cell_type": "code",
   "execution_count": 1,
   "metadata": {},
   "outputs": [
    {
     "name": "stdout",
     "output_type": "stream",
     "text": [
      "Requirement already satisfied: binarytree in c:\\users\\hungu\\anaconda.x\\lib\\site-packages (5.1.0)\n"
     ]
    }
   ],
   "source": [
    "!pip install binarytree"
   ]
  },
  {
   "cell_type": "code",
   "execution_count": 2,
   "metadata": {},
   "outputs": [
    {
     "name": "stdout",
     "output_type": "stream",
     "text": [
      "\n",
      "                ___________________15_____________________\n",
      "               /                                          \\\n",
      "        ______7_______                           __________23_________\n",
      "       /              \\                         /                     \\\n",
      "    __3__           ___11___               ____19___               ____27___\n",
      "   /     \\         /        \\             /         \\             /         \\\n",
      "  1       5       9         _13         _17         _21         _25         _29\n",
      " / \\     / \\     / \\       /   \\       /   \\       /   \\       /   \\       /   \\\n",
      "0   2   4   6   8   10    12    14    16    18    20    22    24    26    28    30\n",
      "\n"
     ]
    }
   ],
   "source": [
    "from binarytree import bst\n",
    "\n",
    "my_tree = bst(height=4, is_perfect=True)\n",
    "\n",
    "print(my_tree)"
   ]
  },
  {
   "cell_type": "markdown",
   "metadata": {},
   "source": [
    "# Q4"
   ]
  },
  {
   "cell_type": "code",
   "execution_count": 3,
   "metadata": {},
   "outputs": [
    {
     "name": "stdout",
     "output_type": "stream",
     "text": [
      "Node Visited:  A\n",
      "Neighbor of node: A is B\n",
      "Node Visited:  B\n",
      "Neighbor of node: B is C\n",
      "Node Visited:  C\n",
      "Neighbor of node: C is E\n",
      "Node Visited:  E\n",
      "Neighbor of node: E is F\n",
      "Node Visited:  F\n",
      "Neighbor of node: F is B\n",
      "Neighbor of node: B is D\n",
      "Node Visited:  D\n",
      "Neighbor of node: D is E\n",
      "Neighbor of node: D is F\n",
      "Neighbor of node: A is C\n",
      "Neighbor of node: A is D\n"
     ]
    }
   ],
   "source": [
    "graph = {\n",
    "    'A' : ['B','C','D'],\n",
    "    'B' : ['C','D'],\n",
    "    'C' : ['E'],\n",
    "    'D' : ['E','F'],\n",
    "    'E' : ['F'],\n",
    "    'F' : ['B']\n",
    "}\n",
    "\n",
    "visited = set()\n",
    "\n",
    "def dfs(visited, graph, node):\n",
    "    if node not in visited:\n",
    "        print('Node Visited: ',node)\n",
    "        visited.add(node)\n",
    "        for neighbour in graph[node]:\n",
    "            print('Neighbor of node:', node, 'is',neighbour)\n",
    "            dfs(visited, graph, neighbour)\n",
    "\n",
    "# Driver Code\n",
    "dfs(visited, graph, 'A')"
   ]
  }
 ],
 "metadata": {
  "kernelspec": {
   "display_name": "Python 3",
   "language": "python",
   "name": "python3"
  },
  "language_info": {
   "codemirror_mode": {
    "name": "ipython",
    "version": 3
   },
   "file_extension": ".py",
   "mimetype": "text/x-python",
   "name": "python",
   "nbconvert_exporter": "python",
   "pygments_lexer": "ipython3",
   "version": "3.7.3"
  }
 },
 "nbformat": 4,
 "nbformat_minor": 2
}
