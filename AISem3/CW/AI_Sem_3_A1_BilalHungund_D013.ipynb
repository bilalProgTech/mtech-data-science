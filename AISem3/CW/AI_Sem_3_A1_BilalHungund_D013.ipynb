{
  "nbformat": 4,
  "nbformat_minor": 0,
  "metadata": {
    "colab": {
      "name": "AI-Sem-3-A1-BilalHungund-D013.ipynb",
      "provenance": [],
      "collapsed_sections": [],
      "include_colab_link": true
    },
    "kernelspec": {
      "display_name": "Python 3",
      "language": "python",
      "name": "python3"
    },
    "language_info": {
      "codemirror_mode": {
        "name": "ipython",
        "version": 3
      },
      "file_extension": ".py",
      "mimetype": "text/x-python",
      "name": "python",
      "nbconvert_exporter": "python",
      "pygments_lexer": "ipython3",
      "version": "3.7.3"
    }
  },
  "cells": [
    {
      "cell_type": "markdown",
      "metadata": {
        "id": "view-in-github",
        "colab_type": "text"
      },
      "source": [
        "<a href=\"https://colab.research.google.com/github/bilalProgTech/mtech-data-science/blob/master/AISem3/CW/AI_Sem_3_A1_BilalHungund_D013.ipynb\" target=\"_parent\"><img src=\"https://colab.research.google.com/assets/colab-badge.svg\" alt=\"Open In Colab\"/></a>"
      ]
    },
    {
      "cell_type": "markdown",
      "metadata": {
        "id": "vwnziY_l_Dq5",
        "colab_type": "text"
      },
      "source": [
        "# Problem Statement - Home Credit Risk\n",
        "Many people struggle to get loans due to insufficient or non-existent credit histories. And, unfortunately, this population is often taken advantage of by untrustworthy lenders.\n",
        "\n",
        "Home Credit strives to broaden financial inclusion for the unbanked population by providing a positive and safe borrowing experience. In order to make sure this underserved population has a positive loan experience, Home Credit makes use of a variety of alternative data--including telco and transactional information--to predict their clients' repayment abilities.\n",
        "\n",
        "While Home Credit is currently using various statistical and machine learning methods to make these predictions, they're challenging Kagglers to help them unlock the full potential of their data. Doing so will ensure that clients capable of repayment are not rejected and that loans are given with a principal, maturity, and repayment calendar that will empower their clients to be successful.\n",
        "\n",
        "# Link Reference\n",
        "https://www.kaggle.com/c/home-credit-default-risk/\n",
        "\n",
        "\n",
        "# Approaches to predict the home credit default\n",
        "* Logistic Regression\n",
        "* Ensemble Learning (Random Forest)\n",
        "\n",
        "# Leaderboard Accuracy\n",
        "0.71094\n",
        "\n",
        "# Accuracies\n",
        "I applied five K-folds on random forest classifier an logistic regression. <br>\n",
        "\n",
        "    Results of 5-folds on RFC without feature engineering <br>\n",
        "    Mean Accuracy Score on CV-5:  0.9193297150628963\n",
        "    Mean Precision Score on CV-5:  0.0010473313192346425\n",
        "    Mean Recall Score on CV-5:  0.7611904761904762\n",
        "    Mean ROC AUC Score on CV-5:  0.7141749427426861\n",
        "    Mean Logloss Score on CV-5:  0.26840721365271203\n",
        "\n",
        "    Results of 5-folds on RFC with feature engineering <br>\n",
        "    Mean Accuracy Score on CV-5:  0.9192939439213379\n",
        "    Mean Precision Score on CV-5:  0.0006445115810674723\n",
        "    Mean Recall Score on CV-5:  0.6671428571428571\n",
        "    Mean ROC AUC Score on CV-5:  0.715156124646816\n",
        "    Mean Logloss Score on CV-5:  0.2704385764754867 <br>\n",
        "\n",
        "To select the feature I removed the variable that holds a correlation of 98% and above after gaining the feature importance from RFC, the variables which are neglected are, <br>\n",
        "Total variables: 31 <br>\n",
        "['AMT_GOODS_PRICE', 'OBS_60_CNT_SOCIAL_CIRCLE', 'LIVINGAREA_AVG', 'YEARS_BEGINEXPLUATATION_MEDI', 'APARTMENTS_MEDI', 'LANDAREA_MEDI', 'LANDAREA_MODE', 'BASEMENTAREA_MEDI', 'YEARS_BUILD_MEDI', 'NONLIVINGAREA_MEDI', 'COMMONAREA_MEDI', 'YEARS_BUILD_AVG', 'LIVINGAPARTMENTS_MEDI', 'ENTRANCES_MEDI', 'ENTRANCES_MODE', 'FLAG_OWN_REALTY_Y', 'FLOORSMAX_MEDI', 'FLAG_OWN_CAR_Y', 'CODE_GENDER_F', 'FLOORSMAX_MODE', 'FLOORSMIN_MEDI', 'FLOORSMIN_MODE', 'NONLIVINGAPARTMENTS_MEDI', 'ELEVATORS_MEDI', 'ELEVATORS_MODE', 'NAME_CONTRACT_TYPE_Revolving loans', 'EMERGENCYSTATE_MODE_Unknown', 'HOUSETYPE_MODE_Unknown', 'FLAG_EMP_PHONE', 'NAME_INCOME_TYPE_Pensioner', 'ORGANIZATION_TYPE_XNA'] <br>\n",
        "\n",
        "    Results of 5-folds on Logistic Regression <br>\n",
        "    Mean Accuracy Score on CV-5:  0.9192549209587615\n",
        "    Mean Precision Score on CV-5:  0.0\n",
        "    Mean Recall Score on CV-5:  0.0\n",
        "    Mean ROC AUC Score on CV-5:  0.6122580207177722\n",
        "    Mean Logloss Score on CV-5:  0.276148176334584"
      ]
    },
    {
      "cell_type": "markdown",
      "metadata": {
        "id": "yo0TWRdm_Dq6",
        "colab_type": "text"
      },
      "source": [
        "# Downloading the data"
      ]
    },
    {
      "cell_type": "code",
      "metadata": {
        "colab_type": "code",
        "id": "uBsBBNysuBXu",
        "colab": {}
      },
      "source": [
        "from google.colab import drive\n",
        "drive.mount('/content/gdrive')"
      ],
      "execution_count": null,
      "outputs": []
    },
    {
      "cell_type": "code",
      "metadata": {
        "colab_type": "code",
        "id": "pAKCexPYusvt",
        "colab": {}
      },
      "source": [
        "import os\n",
        "os.environ['KAGGLE_CONFIG_DIR'] = '/content/gdrive/My Drive/Kaggle'"
      ],
      "execution_count": null,
      "outputs": []
    },
    {
      "cell_type": "code",
      "metadata": {
        "colab_type": "code",
        "id": "iuRcpbrMvN2w",
        "colab": {}
      },
      "source": [
        "!pwd"
      ],
      "execution_count": null,
      "outputs": []
    },
    {
      "cell_type": "code",
      "metadata": {
        "colab_type": "code",
        "id": "p9gqaqNvvYkk",
        "colab": {}
      },
      "source": [
        "! kaggle competitions download -c home-credit-default-risk"
      ],
      "execution_count": null,
      "outputs": []
    },
    {
      "cell_type": "code",
      "metadata": {
        "colab_type": "code",
        "id": "yHTND5PLvgRi",
        "colab": {}
      },
      "source": [
        "!unzip \\*.zip  && rm *.zip"
      ],
      "execution_count": null,
      "outputs": []
    },
    {
      "cell_type": "markdown",
      "metadata": {
        "id": "K2sydHbJ_DrJ",
        "colab_type": "text"
      },
      "source": [
        "# Data Uploading"
      ]
    },
    {
      "cell_type": "code",
      "metadata": {
        "colab_type": "code",
        "id": "aA1mjn5ExVl7",
        "colab": {}
      },
      "source": [
        "import pandas as pd\n",
        "import numpy as np"
      ],
      "execution_count": null,
      "outputs": []
    },
    {
      "cell_type": "code",
      "metadata": {
        "colab_type": "code",
        "id": "ppxuFvHywIB8",
        "colab": {}
      },
      "source": [
        "pos_cash_balance = pd.read_csv('/content/POS_CASH_balance.csv')\n",
        "train = pd.read_csv('/content/application_train.csv')\n",
        "test = pd.read_csv('/content/application_test.csv')\n",
        "bureau = pd.read_csv('/content/bureau.csv')\n",
        "bureau_balance = pd.read_csv('/content/bureau_balance.csv')\n",
        "cc_balance = pd.read_csv('/content/credit_card_balance.csv')\n",
        "ins_payment = pd.read_csv('/content/installments_payments.csv')\n",
        "prev_app = pd.read_csv('/content/previous_application.csv')"
      ],
      "execution_count": null,
      "outputs": []
    },
    {
      "cell_type": "markdown",
      "metadata": {
        "id": "rdOyL5ST_DrR",
        "colab_type": "text"
      },
      "source": [
        "# Understanding the data"
      ]
    },
    {
      "cell_type": "code",
      "metadata": {
        "colab_type": "code",
        "id": "DzNWQx8PxNHy",
        "colab": {}
      },
      "source": [
        "pos_cash_balance.head()"
      ],
      "execution_count": null,
      "outputs": []
    },
    {
      "cell_type": "code",
      "metadata": {
        "colab_type": "code",
        "id": "57GZ0iw5xsXO",
        "colab": {}
      },
      "source": [
        "train.head()"
      ],
      "execution_count": null,
      "outputs": []
    },
    {
      "cell_type": "code",
      "metadata": {
        "colab_type": "code",
        "id": "HXPerDXoxvkL",
        "colab": {}
      },
      "source": [
        "bureau.head()"
      ],
      "execution_count": null,
      "outputs": []
    },
    {
      "cell_type": "code",
      "metadata": {
        "colab_type": "code",
        "id": "w4PZ77JSyqRI",
        "colab": {}
      },
      "source": [
        "bureau_balance.head()"
      ],
      "execution_count": null,
      "outputs": []
    },
    {
      "cell_type": "code",
      "metadata": {
        "colab_type": "code",
        "id": "ABON0doiyuOz",
        "colab": {}
      },
      "source": [
        "cc_balance.head()"
      ],
      "execution_count": null,
      "outputs": []
    },
    {
      "cell_type": "code",
      "metadata": {
        "colab_type": "code",
        "id": "x4viwAt7zFx6",
        "colab": {}
      },
      "source": [
        "ins_payment.head()"
      ],
      "execution_count": null,
      "outputs": []
    },
    {
      "cell_type": "code",
      "metadata": {
        "colab_type": "code",
        "id": "NZT_dWzvzLD6",
        "colab": {}
      },
      "source": [
        "prev_app.head()"
      ],
      "execution_count": null,
      "outputs": []
    },
    {
      "cell_type": "code",
      "metadata": {
        "colab_type": "code",
        "id": "hiIe4rBkx_Cz",
        "colab": {}
      },
      "source": [
        "train.shape, test.shape, bureau.shape, bureau_balance.shape, cc_balance.shape, ins_payment.shape, prev_app.shape, pos_cash_balance.shape"
      ],
      "execution_count": null,
      "outputs": []
    },
    {
      "cell_type": "code",
      "metadata": {
        "colab_type": "code",
        "id": "QtYep-AoyTLa",
        "colab": {}
      },
      "source": [
        "combine = train.append(test)\n",
        "combine.shape"
      ],
      "execution_count": null,
      "outputs": []
    },
    {
      "cell_type": "markdown",
      "metadata": {
        "id": "mDJz6esL_Drm",
        "colab_type": "text"
      },
      "source": [
        "# Preprocessing Bureau data section\n",
        "\n",
        "First SK_ID_CURR are grouped-by and their aggregates are fetched into the list which then move into the new dataframe of bureau."
      ]
    },
    {
      "cell_type": "code",
      "metadata": {
        "colab_type": "code",
        "id": "2V0oZ0EDC7Az",
        "colab": {}
      },
      "source": [
        "bureau_balance.isnull().sum() / bureau.shape[0]"
      ],
      "execution_count": null,
      "outputs": []
    },
    {
      "cell_type": "code",
      "metadata": {
        "colab_type": "code",
        "id": "c94fonEbDB3Q",
        "colab": {}
      },
      "source": [
        "bureau_balance_grouping = bureau_balance.groupby('SK_ID_BUREAU')\n",
        "bureau_ids = bureau_balance.drop_duplicates('SK_ID_BUREAU')['SK_ID_BUREAU'].tolist()\n",
        "\n",
        "months_balance_list = []\n",
        "status_list = []\n",
        "\n",
        "for id in bureau_ids:\n",
        "  months_balance_list.append(bureau_balance_grouping.get_group(id)['MONTHS_BALANCE'].agg('sum'))\n",
        "  status_list.append(np.unique(bureau_balance_grouping.get_group(id)['STATUS']).tolist())\n",
        "\n",
        "bb_dict = {'SK_ID_BUREAU': bureau_ids,\n",
        "           'MONTHS_BALANCE':months_balance_list, \n",
        "           'STATUS': status_list}\n",
        "new_bb = pd.DataFrame(bb_dict)\n",
        "new_bb.head()"
      ],
      "execution_count": null,
      "outputs": []
    },
    {
      "cell_type": "code",
      "metadata": {
        "colab_type": "code",
        "id": "PCszjErdFGB6",
        "colab": {}
      },
      "source": [
        "len(bureau_ids)"
      ],
      "execution_count": null,
      "outputs": []
    },
    {
      "cell_type": "code",
      "metadata": {
        "colab_type": "code",
        "id": "A8rYFAmPFGUV",
        "colab": {}
      },
      "source": [
        "bureau = pd.merge(bureau, new_bb)\n",
        "bureau.head()"
      ],
      "execution_count": null,
      "outputs": []
    },
    {
      "cell_type": "code",
      "metadata": {
        "colab_type": "code",
        "id": "D67yc_WJ4aTq",
        "colab": {}
      },
      "source": [
        "bureau.isnull().sum() / bureau.shape[0]"
      ],
      "execution_count": null,
      "outputs": []
    },
    {
      "cell_type": "code",
      "metadata": {
        "colab_type": "code",
        "id": "VKUNLGXH49aP",
        "colab": {}
      },
      "source": [
        "bureau.describe()"
      ],
      "execution_count": null,
      "outputs": []
    },
    {
      "cell_type": "code",
      "metadata": {
        "colab_type": "code",
        "id": "OZDolf8D4pe7",
        "colab": {}
      },
      "source": [
        "bureau = bureau.drop(['AMT_CREDIT_MAX_OVERDUE', 'AMT_ANNUITY'], axis=1)\n",
        "bureau.fillna(0, inplace=True)"
      ],
      "execution_count": null,
      "outputs": []
    },
    {
      "cell_type": "code",
      "metadata": {
        "colab_type": "code",
        "id": "3rJPudWm5qrI",
        "colab": {}
      },
      "source": [
        "bureau.head()"
      ],
      "execution_count": null,
      "outputs": []
    },
    {
      "cell_type": "code",
      "metadata": {
        "colab_type": "code",
        "id": "ooQaf8w27xVb",
        "colab": {}
      },
      "source": [
        "bureau.columns"
      ],
      "execution_count": null,
      "outputs": []
    },
    {
      "cell_type": "code",
      "metadata": {
        "colab_type": "code",
        "id": "9eSeMOvY5MzO",
        "colab": {}
      },
      "source": [
        "bureau_grouping = bureau.groupby('SK_ID_CURR')\n",
        "sk_ids = bureau.drop_duplicates('SK_ID_CURR')['SK_ID_CURR'].tolist()\n",
        "\n",
        "credit_active_list = []\n",
        "credit_curr_list = []\n",
        "credit_type_list = []\n",
        "DAYS_CREDIT_list = []\n",
        "CREDIT_DAY_OVERDUE_list = []\n",
        "DAYS_CREDIT_ENDDATE_list = []\n",
        "DAYS_ENDDATE_FACT_list = [] \n",
        "CNT_CREDIT_PROLONG_list = []\n",
        "AMT_CREDIT_SUM_list = []\n",
        "AMT_CREDIT_SUM_DEBT_list = []\n",
        "AMT_CREDIT_SUM_LIMIT_list = []\n",
        "AMT_CREDIT_SUM_OVERDUE_list = []\n",
        "DAYS_CREDIT_UPDATE_list = []\n",
        "MONTHS_BALANCE_list = []\n",
        "STATUS_list = []\n",
        "i = 1\n",
        "\n",
        "from matplotlib.cbook import flatten\n",
        "\n",
        "print('Unique IDs:', len(sk_ids))\n",
        "\n",
        "for id in sk_ids:\n",
        "  credit_active_list.append(np.unique(bureau_grouping.get_group(id)['CREDIT_ACTIVE']).tolist())\n",
        "  credit_curr_list.append(np.unique(bureau_grouping.get_group(id)['CREDIT_CURRENCY']).tolist())\n",
        "  credit_type_list.append(np.unique(bureau_grouping.get_group(id)['CREDIT_TYPE']).tolist())\n",
        "  DAYS_CREDIT_list.append(bureau_grouping.get_group(id)['DAYS_CREDIT'].agg('sum'))\n",
        "  CREDIT_DAY_OVERDUE_list.append(bureau_grouping.get_group(id)['CREDIT_DAY_OVERDUE'].agg('sum'))\n",
        "  DAYS_CREDIT_ENDDATE_list.append(bureau_grouping.get_group(id)['DAYS_CREDIT_ENDDATE'].agg('mean'))\n",
        "  DAYS_ENDDATE_FACT_list.append(bureau_grouping.get_group(id)['DAYS_ENDDATE_FACT'].agg('sum'))\n",
        "  CNT_CREDIT_PROLONG_list.append(bureau_grouping.get_group(id)['CNT_CREDIT_PROLONG'].agg('sum'))\n",
        "  AMT_CREDIT_SUM_list.append(bureau_grouping.get_group(id)['AMT_CREDIT_SUM'].agg('mean'))\n",
        "  AMT_CREDIT_SUM_DEBT_list.append(bureau_grouping.get_group(id)['AMT_CREDIT_SUM_DEBT'].agg('mean'))\n",
        "  AMT_CREDIT_SUM_LIMIT_list.append(bureau_grouping.get_group(id)['AMT_CREDIT_SUM_LIMIT'].agg('mean'))\n",
        "  AMT_CREDIT_SUM_OVERDUE_list.append(bureau_grouping.get_group(id)['AMT_CREDIT_SUM_OVERDUE'].agg('mean'))\n",
        "  DAYS_CREDIT_UPDATE_list.append(bureau_grouping.get_group(id)['DAYS_CREDIT_UPDATE'].agg('mean'))\n",
        "  MONTHS_BALANCE_list.append(bureau_grouping.get_group(id)['MONTHS_BALANCE'].agg('sum'))\n",
        "  statuslists = bureau_grouping.get_group(id)['STATUS'].tolist()\n",
        "  STATUS_list.append(np.unique(list(flatten(statuslists))))\n",
        "\n",
        "bureau_dict = {'SK_ID_CURR': sk_ids,\n",
        "               'CREDIT_ACTIVE':credit_active_list, \n",
        "               'CREDIT_CURRENCY': credit_curr_list, \n",
        "               'DAYS_CREDIT': DAYS_CREDIT_list,\n",
        "               'CREDIT_DAY_OVERDUE': CREDIT_DAY_OVERDUE_list,\n",
        "               'DAYS_CREDIT_ENDDATE': DAYS_CREDIT_ENDDATE_list,\n",
        "               'DAYS_ENDDATE_FACT': DAYS_ENDDATE_FACT_list,\n",
        "               'CNT_CREDIT_PROLONG': CNT_CREDIT_PROLONG_list, \n",
        "               'AMT_CREDIT_SUM': AMT_CREDIT_SUM_list, \n",
        "               'AMT_CREDIT_SUM_DEBT': AMT_CREDIT_SUM_DEBT_list,\n",
        "               'AMT_CREDIT_SUM_OVERDUE': AMT_CREDIT_SUM_OVERDUE_list,\n",
        "               'CREDIT_TYPE': credit_type_list,\n",
        "               'DAYS_CREDIT_UPDATE': DAYS_CREDIT_UPDATE_list,\n",
        "               'MONTHS_BALANCE': MONTHS_BALANCE_list,\n",
        "               'STATUS': STATUS_list}\n",
        "      \n",
        "new_bureau = pd.DataFrame(data=bureau_dict)\n",
        "new_bureau.head()"
      ],
      "execution_count": null,
      "outputs": []
    },
    {
      "cell_type": "code",
      "metadata": {
        "colab_type": "code",
        "id": "LfucJO6NNf4n",
        "colab": {}
      },
      "source": [
        "new_bureau['CREDIT_ACTIVE'] = new_bureau['CREDIT_ACTIVE'].astype('str').str.replace(\"'\",\"\")\n",
        "new_bureau['CREDIT_ACTIVE'] = new_bureau['CREDIT_ACTIVE'].astype('str').str.replace(\"]\",\"\")\n",
        "new_bureau['CREDIT_ACTIVE'] = new_bureau['CREDIT_ACTIVE'].astype('str').str.replace(\"[\",\"\")\n",
        "\n",
        "new_bureau['CREDIT_CURRENCY'] = new_bureau['CREDIT_CURRENCY'].astype('str').str.replace(\"'\",\"\")\n",
        "new_bureau['CREDIT_CURRENCY'] = new_bureau['CREDIT_CURRENCY'].astype('str').str.replace(\"]\",\"\")\n",
        "new_bureau['CREDIT_CURRENCY'] = new_bureau['CREDIT_CURRENCY'].astype('str').str.replace(\"[\",\"\")\n",
        "\n",
        "new_bureau['CREDIT_TYPE'] = new_bureau['CREDIT_TYPE'].astype('str').str.replace(\"'\",\"\")\n",
        "new_bureau['CREDIT_TYPE'] = new_bureau['CREDIT_TYPE'].astype('str').str.replace(\"]\",\"\")\n",
        "new_bureau['CREDIT_TYPE'] = new_bureau['CREDIT_TYPE'].astype('str').str.replace(\"[\",\"\")\n",
        "\n",
        "new_bureau = pd.concat([new_bureau, \n",
        "          new_bureau.CREDIT_ACTIVE.apply(lambda x: pd.Series(x.split(', ')).value_counts()).fillna(0)], \n",
        "          axis = 1)\n",
        "new_bureau = new_bureau.drop('CREDIT_ACTIVE', axis=1)\n",
        "\n",
        "new_bureau = pd.concat([new_bureau, \n",
        "          new_bureau.CREDIT_CURRENCY.apply(lambda x: pd.Series(x.split(', ')).value_counts()).fillna(0)], \n",
        "          axis = 1)\n",
        "new_bureau = new_bureau.drop('CREDIT_CURRENCY', axis=1)\n",
        "\n",
        "new_bureau = pd.concat([new_bureau, \n",
        "          new_bureau.CREDIT_TYPE.apply(lambda x: pd.Series(x.split(', ')).value_counts()).fillna(0)], \n",
        "          axis = 1)\n",
        "new_bureau = new_bureau.drop('CREDIT_TYPE', axis=1)"
      ],
      "execution_count": null,
      "outputs": []
    },
    {
      "cell_type": "code",
      "metadata": {
        "colab_type": "code",
        "id": "IKStKZYTa0Bu",
        "colab": {}
      },
      "source": [
        "new_bureau.head()"
      ],
      "execution_count": null,
      "outputs": []
    },
    {
      "cell_type": "code",
      "metadata": {
        "colab_type": "code",
        "id": "Xeq3LNprdo2O",
        "colab": {}
      },
      "source": [
        "new_bureau['STATUS'] = new_bureau['STATUS'].astype('str').str.replace(\"'\",\"\")\n",
        "new_bureau['STATUS'] = new_bureau['STATUS'].astype('str').str.replace(\"]\",\"\")\n",
        "new_bureau['STATUS'] = new_bureau['STATUS'].astype('str').str.replace(\"[\",\"\")"
      ],
      "execution_count": null,
      "outputs": []
    },
    {
      "cell_type": "code",
      "metadata": {
        "colab_type": "code",
        "id": "yvoRK9Xjdo71",
        "colab": {}
      },
      "source": [
        "new_bureau = pd.concat([new_bureau, \n",
        "          new_bureau.STATUS.apply(lambda x: pd.Series(x.split(' ')).value_counts()).fillna(0)], \n",
        "          axis = 1)\n",
        "new_bureau = new_bureau.drop('STATUS', axis=1)"
      ],
      "execution_count": null,
      "outputs": []
    },
    {
      "cell_type": "code",
      "metadata": {
        "colab_type": "code",
        "id": "0hnSHQGydpGW",
        "colab": {}
      },
      "source": [
        "new_bureau.head()"
      ],
      "execution_count": null,
      "outputs": []
    },
    {
      "cell_type": "code",
      "metadata": {
        "colab_type": "code",
        "id": "EQekQiZgdo5g",
        "colab": {}
      },
      "source": [
        "new_bureau.to_csv('new_burean.csv', index=False)"
      ],
      "execution_count": null,
      "outputs": []
    },
    {
      "cell_type": "markdown",
      "metadata": {
        "id": "RwzANFjw_DsJ",
        "colab_type": "text"
      },
      "source": [
        "# Previous Application data preprocessing"
      ]
    },
    {
      "cell_type": "code",
      "metadata": {
        "colab_type": "code",
        "id": "w1smb9Rqdo0H",
        "colab": {}
      },
      "source": [
        "cc_balance.isnull().sum() / cc_balance.shape[0]"
      ],
      "execution_count": null,
      "outputs": []
    },
    {
      "cell_type": "code",
      "metadata": {
        "colab_type": "code",
        "id": "uRRe7O2bfQKT",
        "colab": {}
      },
      "source": [
        "cc_balance.head()"
      ],
      "execution_count": null,
      "outputs": []
    },
    {
      "cell_type": "code",
      "metadata": {
        "colab_type": "code",
        "id": "Awk46SN8jXXP",
        "colab": {}
      },
      "source": [
        "len(cc_balance.drop_duplicates('SK_ID_PREV')['SK_ID_PREV'].tolist())"
      ],
      "execution_count": null,
      "outputs": []
    },
    {
      "cell_type": "code",
      "metadata": {
        "colab_type": "code",
        "id": "0n9CoRwyjhHj",
        "colab": {}
      },
      "source": [
        "cc_balance_grouping = cc_balance.groupby('SK_ID_CURR')\n",
        "sk_prev_ids = cc_balance.drop_duplicates('SK_ID_CURR')['SK_ID_CURR'].tolist()\n",
        "\n",
        "MONTHS_BALANCE_list = []\n",
        "AMT_TOTAL_RECEIVABLE_list = []\n",
        "CNT_CURRENT_list = []\n",
        "CNT_INSTALMENT_MATURE_CUM_list = []\n",
        "NAME_CONTRACT_STATUS_list = []\n",
        "SK_DPD_list = []\n",
        "SK_DPD_DEF_list = []\n",
        "\n",
        "for id in sk_prev_ids:\n",
        "  MONTHS_BALANCE_list.append(cc_balance_grouping.get_group(id)['MONTHS_BALANCE'].agg('sum'))\n",
        "  AMT_TOTAL_RECEIVABLE_list.append(cc_balance_grouping.get_group(id)['AMT_TOTAL_RECEIVABLE'].agg('mean'))\n",
        "  CNT_CURRENT_list.append(cc_balance_grouping.get_group(id)['CNT_DRAWINGS_CURRENT'].agg('sum'))\n",
        "  CNT_INSTALMENT_MATURE_CUM_list.append(cc_balance_grouping.get_group(id)['CNT_INSTALMENT_MATURE_CUM'].agg('mean'))\n",
        "  NAME_CONTRACT_STATUS_list.append(np.unique(cc_balance_grouping.get_group(id)['NAME_CONTRACT_STATUS']).tolist())\n",
        "  SK_DPD_list.append(cc_balance_grouping.get_group(id)['SK_DPD'].agg('mean'))\n",
        "  SK_DPD_DEF_list.append(cc_balance_grouping.get_group(id)['SK_DPD_DEF'].agg('mean'))"
      ],
      "execution_count": null,
      "outputs": []
    },
    {
      "cell_type": "code",
      "metadata": {
        "colab_type": "code",
        "id": "WG0zA3Cf25qd",
        "colab": {}
      },
      "source": [
        "cc_balance_dict = {'SK_ID_CURR': sk_prev_ids, \n",
        "                   'MONTHS_BALANCE': MONTHS_BALANCE_list,\n",
        "                   'AMT_TOTAL_RECEIVABLE':AMT_TOTAL_RECEIVABLE_list,\n",
        "                   'CNT_DRAWINGS_CURRENT':CNT_CURRENT_list,\n",
        "                   'CNT_INSTALMENT_MATURE_CUM':CNT_INSTALMENT_MATURE_CUM_list,\n",
        "                   'NAME_CONTRACT_STATUS':NAME_CONTRACT_STATUS_list,\n",
        "                   'SK_DPD':SK_DPD_list,\n",
        "                   'SK_DPD_DEF':SK_DPD_DEF_list}\n",
        "new_cc_balance = pd.DataFrame(cc_balance_dict)\n",
        "new_cc_balance.head()"
      ],
      "execution_count": null,
      "outputs": []
    },
    {
      "cell_type": "code",
      "metadata": {
        "colab_type": "code",
        "id": "Q1lFnmAFy_BY",
        "colab": {}
      },
      "source": [
        "new_cc_balance.to_csv('new_cc_balance.csv', index=False)"
      ],
      "execution_count": null,
      "outputs": []
    },
    {
      "cell_type": "code",
      "metadata": {
        "colab_type": "code",
        "id": "SArvWyk7Ihbe",
        "colab": {}
      },
      "source": [
        "new_cc_balance['NAME_CONTRACT_STATUS'] = new_cc_balance['NAME_CONTRACT_STATUS'].astype('str').str.replace(\"'\",\"\")\n",
        "new_cc_balance['NAME_CONTRACT_STATUS'] = new_cc_balance['NAME_CONTRACT_STATUS'].astype('str').str.replace(\"]\",\"\")\n",
        "new_cc_balance['NAME_CONTRACT_STATUS'] = new_cc_balance['NAME_CONTRACT_STATUS'].astype('str').str.replace(\"[\",\"\")\n",
        "\n",
        "new_cc_balance = pd.concat([new_cc_balance, \n",
        "          new_cc_balance.NAME_CONTRACT_STATUS.apply(lambda x: pd.Series(x.split(', ')).value_counts()).fillna(0)], \n",
        "          axis = 1)\n",
        "new_cc_balance = new_cc_balance.drop('NAME_CONTRACT_STATUS', axis=1)"
      ],
      "execution_count": null,
      "outputs": []
    },
    {
      "cell_type": "code",
      "metadata": {
        "colab_type": "code",
        "id": "oppEgFUk-6fV",
        "colab": {}
      },
      "source": [
        "new_bureau.head()"
      ],
      "execution_count": null,
      "outputs": []
    },
    {
      "cell_type": "code",
      "metadata": {
        "colab_type": "code",
        "id": "a1fblViuHo1n",
        "colab": {}
      },
      "source": [
        "new_cc_balance.head()"
      ],
      "execution_count": null,
      "outputs": []
    },
    {
      "cell_type": "code",
      "metadata": {
        "colab_type": "code",
        "id": "I_LlKEUeItvT",
        "colab": {}
      },
      "source": [
        "combine.head()"
      ],
      "execution_count": null,
      "outputs": []
    },
    {
      "cell_type": "markdown",
      "metadata": {
        "id": "SXAzuzrh_Dsg",
        "colab_type": "text"
      },
      "source": [
        "# Merging the data"
      ]
    },
    {
      "cell_type": "code",
      "metadata": {
        "colab_type": "code",
        "id": "-PIpGSfKIuh7",
        "colab": {}
      },
      "source": [
        "combine = train.append(test)\n",
        "print(combine.shape)\n",
        "combine = pd.merge(combine, new_cc_balance, on='SK_ID_CURR', how='left')\n",
        "combine.shape"
      ],
      "execution_count": null,
      "outputs": []
    },
    {
      "cell_type": "code",
      "metadata": {
        "colab_type": "code",
        "id": "5gkeqQkUMmJd",
        "colab": {}
      },
      "source": [
        "combine = pd.merge(combine, new_bureau, on='SK_ID_CURR', how='left')\n",
        "combine.shape"
      ],
      "execution_count": null,
      "outputs": []
    },
    {
      "cell_type": "markdown",
      "metadata": {
        "id": "hQoihw1R_Dsk",
        "colab_type": "text"
      },
      "source": [
        "# Filling the NA values"
      ]
    },
    {
      "cell_type": "code",
      "metadata": {
        "colab_type": "code",
        "id": "t2Ckmxu5Jajj",
        "colab": {}
      },
      "source": [
        "print(len(combine.select_dtypes('object').columns))\n",
        "objects = combine.select_dtypes('object').columns\n",
        "combine[objects] = combine[objects].fillna('Unknown')\n",
        "combine.select_dtypes('object').columns"
      ],
      "execution_count": null,
      "outputs": []
    },
    {
      "cell_type": "code",
      "metadata": {
        "colab_type": "code",
        "id": "9YZp02QZKD84",
        "colab": {}
      },
      "source": [
        "print(len(combine.select_dtypes('float64').columns))\n",
        "float64 = combine.select_dtypes('float64').columns[1:]\n",
        "combine[float64] = combine[float64].fillna(combine[float64].mean())\n",
        "combine.select_dtypes('float64').columns"
      ],
      "execution_count": null,
      "outputs": []
    },
    {
      "cell_type": "code",
      "metadata": {
        "colab_type": "code",
        "id": "cjYLMlpAKvEu",
        "colab": {}
      },
      "source": [
        "print(len(combine.select_dtypes('int64').columns))\n",
        "int64 = combine.select_dtypes('int64').columns\n",
        "combine[int64] = combine[int64].fillna(combine[int64].mean())\n",
        "combine.select_dtypes('int64').columns"
      ],
      "execution_count": null,
      "outputs": []
    },
    {
      "cell_type": "code",
      "metadata": {
        "colab_type": "code",
        "id": "JxvoZTAXLAoD",
        "colab": {}
      },
      "source": [
        "combine.isnull().sum().sum(), combine.shape"
      ],
      "execution_count": null,
      "outputs": []
    },
    {
      "cell_type": "code",
      "metadata": {
        "colab_type": "code",
        "id": "PgqI7_lZLLcE",
        "colab": {}
      },
      "source": [
        "combine = pd.get_dummies(combine)\n",
        "combine.shape"
      ],
      "execution_count": null,
      "outputs": []
    },
    {
      "cell_type": "markdown",
      "metadata": {
        "id": "mjaEl-Sf_Dsu",
        "colab_type": "text"
      },
      "source": [
        "# Data Preparation for modelling"
      ]
    },
    {
      "cell_type": "code",
      "metadata": {
        "colab_type": "code",
        "id": "2rW84hjfLo4O",
        "colab": {}
      },
      "source": [
        "X = combine[combine['TARGET'].isnull()!=True].drop(['TARGET', 'SK_ID_CURR'], axis=1)\n",
        "y = combine[combine['TARGET'].isnull()!=True]['TARGET'].reset_index(drop=True)\n",
        "\n",
        "X_test = combine[combine['TARGET'].isnull()==True].drop(['TARGET','SK_ID_CURR'], axis=1)\n",
        "\n",
        "X.shape, y.shape, X_test.shape"
      ],
      "execution_count": null,
      "outputs": []
    },
    {
      "cell_type": "markdown",
      "metadata": {
        "id": "eTWCnxwD_Dsw",
        "colab_type": "text"
      },
      "source": [
        "# Random Forest Classifier"
      ]
    },
    {
      "cell_type": "code",
      "metadata": {
        "colab_type": "code",
        "id": "x9v-chNTM3-l",
        "colab": {}
      },
      "source": [
        "err_as = []\n",
        "err_rs = []\n",
        "err_ps = []\n",
        "err_roc = []\n",
        "err_ll = []\n",
        "\n",
        "y_pred_tot_lgm = []\n",
        "features = X.columns\n",
        "feature_importance_df = pd.DataFrame()\n",
        "\n",
        "from sklearn.model_selection import KFold, StratifiedKFold\n",
        "from sklearn.metrics import confusion_matrix, recall_score, accuracy_score, precision_score, roc_auc_score, log_loss\n",
        "from sklearn.ensemble import RandomForestClassifier\n",
        "\n",
        "fold = StratifiedKFold(n_splits=5)\n",
        "i = 1\n",
        "for train_index, test_index in fold.split(X, y):\n",
        "    x_train, x_val = X.iloc[train_index], X.iloc[test_index]\n",
        "    y_train, y_val = y[train_index], y[test_index]\n",
        "    m = RandomForestClassifier()\n",
        "    m.fit(x_train, y_train)\n",
        "    pred_y = m.predict(x_val)\n",
        "    prob_pred = m.predict_proba(x_val)[:,1]\n",
        "    \n",
        "    fold_importance_df = pd.DataFrame()\n",
        "    fold_importance_df[\"Feature\"] = features\n",
        "    fold_importance_df[\"importance\"] = m.feature_importances_\n",
        "    fold_importance_df[\"fold\"] = i + 1\n",
        "    feature_importance_df = pd.concat([feature_importance_df, fold_importance_df], axis=0)\n",
        "    \n",
        "    print(\"Fold \",i, \" Accuracy: \",(accuracy_score(pred_y, y_val)))\n",
        "    print(\"Fold \",i, \" Recall: \",(recall_score(pred_y, y_val)))\n",
        "    print(\"Fold \",i, \" Precision: \",(precision_score(pred_y, y_val)))\n",
        "    print(\"Fold \",i, \" ROC AUC: \",(roc_auc_score(y_val, prob_pred)))\n",
        "    print(\"Fold \",i, \" Logloss: \",(log_loss(y_val, prob_pred)))\n",
        "    print(confusion_matrix(pred_y, y_val))\n",
        "\n",
        "    err_as.append(accuracy_score(pred_y, y_val))\n",
        "    err_rs.append(recall_score(pred_y, y_val))\n",
        "    err_ps.append(precision_score(pred_y, y_val))\n",
        "    err_roc.append(roc_auc_score(y_val, prob_pred))\n",
        "    err_ll.append(log_loss(y_val, prob_pred))\n",
        "\n",
        "    pred_test = m.predict_proba(X_test)[:,1]\n",
        "    i = i + 1\n",
        "    y_pred_tot_lgm.append(pred_test)"
      ],
      "execution_count": null,
      "outputs": []
    },
    {
      "cell_type": "code",
      "metadata": {
        "colab_type": "code",
        "id": "NLPx2JsfOwFR",
        "colab": {}
      },
      "source": [
        "print('Mean Accuracy Score on CV-5: ', np.mean(err_as, 0))\n",
        "print('Mean Precision Score on CV-5: ', np.mean(err_ps, 0))\n",
        "print('Mean Recall Score on CV-5: ', np.mean(err_rs, 0))\n",
        "print('Mean ROC AUC Score on CV-5: ', np.mean(err_roc, 0))\n",
        "print('Mean Logloss Score on CV-5: ', np.mean(err_ll, 0))"
      ],
      "execution_count": null,
      "outputs": []
    },
    {
      "cell_type": "markdown",
      "metadata": {
        "id": "SCD__CIa_Ds4",
        "colab_type": "text"
      },
      "source": [
        "# Feature Engineering"
      ]
    },
    {
      "cell_type": "code",
      "metadata": {
        "colab_type": "code",
        "id": "xTfq3XVNYEEH",
        "colab": {}
      },
      "source": [
        "all_feat = feature_importance_df[[\"Feature\",\n",
        "                                  \"importance\"]].groupby(\"Feature\").mean().sort_values(by=\"importance\", \n",
        "                                                                                           ascending=False)\n",
        "all_feat.reset_index(inplace=True)\n",
        "important_feat = list(all_feat['Feature'])\n",
        "all_feat.head(20)"
      ],
      "execution_count": null,
      "outputs": []
    },
    {
      "cell_type": "markdown",
      "metadata": {
        "id": "9CKgUiPl_Ds7",
        "colab_type": "text"
      },
      "source": [
        "Highly correlated data are neglected, threshold - 98%"
      ]
    },
    {
      "cell_type": "code",
      "metadata": {
        "colab_type": "code",
        "id": "55nNHCDFYDz5",
        "colab": {}
      },
      "source": [
        "df = X[important_feat]\n",
        "corr_matrix = df.corr().abs()\n",
        "\n",
        "upper = corr_matrix.where(np.triu(np.ones(corr_matrix.shape), k=1).astype(np.bool))\n",
        "\n",
        "high_cor = [column for column in upper.columns if any(upper[column] > 0.98)]\n",
        "print(len(high_cor))\n",
        "print(high_cor)"
      ],
      "execution_count": null,
      "outputs": []
    },
    {
      "cell_type": "code",
      "metadata": {
        "colab_type": "code",
        "id": "qI9ohiwPYDJm",
        "colab": {}
      },
      "source": [
        "features = [i for i in important_feat if i not in high_cor]\n",
        "print(len(features))\n",
        "print(features)"
      ],
      "execution_count": null,
      "outputs": []
    },
    {
      "cell_type": "code",
      "metadata": {
        "colab_type": "code",
        "id": "O8OjDuYEbCWj",
        "colab": {}
      },
      "source": [
        "X1 = X[features]\n",
        "X_test1 = X_test[features]"
      ],
      "execution_count": null,
      "outputs": []
    },
    {
      "cell_type": "markdown",
      "metadata": {
        "id": "EDkHrlPM_DtD",
        "colab_type": "text"
      },
      "source": [
        "# Random Forest after feature engineering"
      ]
    },
    {
      "cell_type": "code",
      "metadata": {
        "colab_type": "code",
        "id": "XQ8pDVDBWzxe",
        "colab": {}
      },
      "source": [
        "err_as = []\n",
        "err_rs = []\n",
        "err_ps = []\n",
        "err_roc = []\n",
        "err_ll = []\n",
        "\n",
        "y_pred_tot_lgm = []\n",
        "\n",
        "fold = StratifiedKFold(n_splits=5)\n",
        "i = 1\n",
        "for train_index, test_index in fold.split(X1, y):\n",
        "    x_train, x_val = X1.iloc[train_index], X1.iloc[test_index]\n",
        "    y_train, y_val = y[train_index], y[test_index]\n",
        "    m = RandomForestClassifier()\n",
        "    m.fit(x_train, y_train)\n",
        "    pred_y = m.predict(x_val)\n",
        "    prob_pred = m.predict_proba(x_val)[:,1]\n",
        "    \n",
        "    print(\"Fold \",i, \" Accuracy: \",(accuracy_score(pred_y, y_val)))\n",
        "    print(\"Fold \",i, \" Recall: \",(recall_score(pred_y, y_val)))\n",
        "    print(\"Fold \",i, \" Precision: \",(precision_score(pred_y, y_val)))\n",
        "    print(\"Fold \",i, \" ROC AUC: \",(roc_auc_score(y_val, prob_pred)))\n",
        "    print(\"Fold \",i, \" Logloss: \",(log_loss(y_val, prob_pred)))\n",
        "    print(confusion_matrix(pred_y, y_val))\n",
        "\n",
        "    err_as.append(accuracy_score(pred_y, y_val))\n",
        "    err_rs.append(recall_score(pred_y, y_val))\n",
        "    err_ps.append(precision_score(pred_y, y_val))\n",
        "    err_roc.append(roc_auc_score(y_val, prob_pred))\n",
        "    err_ll.append(log_loss(y_val, prob_pred))\n",
        "\n",
        "    pred_test = m.predict_proba(X_test1)[:,1]\n",
        "    i = i + 1\n",
        "    y_pred_tot_lgm.append(pred_test)"
      ],
      "execution_count": null,
      "outputs": []
    },
    {
      "cell_type": "code",
      "metadata": {
        "colab_type": "code",
        "id": "cncYYF67XEmf",
        "colab": {}
      },
      "source": [
        "print('Mean Accuracy Score on CV-5: ', np.mean(err_as, 0))\n",
        "print('Mean Precision Score on CV-5: ', np.mean(err_ps, 0))\n",
        "print('Mean Recall Score on CV-5: ', np.mean(err_rs, 0))\n",
        "print('Mean ROC AUC Score on CV-5: ', np.mean(err_roc, 0))\n",
        "print('Mean Logloss Score on CV-5: ', np.mean(err_ll, 0))"
      ],
      "execution_count": null,
      "outputs": []
    },
    {
      "cell_type": "markdown",
      "metadata": {
        "id": "kVJ229vi_DtH",
        "colab_type": "text"
      },
      "source": [
        "# Logistic Regression"
      ]
    },
    {
      "cell_type": "code",
      "metadata": {
        "colab_type": "code",
        "id": "i6xEfpgZXIcz",
        "colab": {}
      },
      "source": [
        "err_as_lreg = []\n",
        "err_rs_lreg = []\n",
        "err_ps_lreg = []\n",
        "err_roc_lreg = []\n",
        "err_ll_lreg = []\n",
        "\n",
        "y_pred_tot_logreg = []\n",
        "\n",
        "from sklearn.linear_model import LogisticRegression\n",
        "\n",
        "fold = StratifiedKFold(n_splits=5)\n",
        "i = 1\n",
        "for train_index, test_index in fold.split(X1, y):\n",
        "    x_train, x_val = X1.iloc[train_index], X1.iloc[test_index]\n",
        "    y_train, y_val = y[train_index], y[test_index]\n",
        "    m = LogisticRegression()\n",
        "    m.fit(x_train, y_train)\n",
        "    pred_y = m.predict(x_val)\n",
        "    prob_pred = m.predict_proba(x_val)[:,1]\n",
        "    \n",
        "    print(\"Fold \",i, \" Accuracy: \",(accuracy_score(pred_y, y_val)))\n",
        "    print(\"Fold \",i, \" Recall: \",(recall_score(pred_y, y_val)))\n",
        "    print(\"Fold \",i, \" Precision: \",(precision_score(pred_y, y_val)))\n",
        "    print(\"Fold \",i, \" ROC AUC: \",(roc_auc_score(y_val, prob_pred)))\n",
        "    print(\"Fold \",i, \" Logloss: \",(log_loss(y_val, prob_pred)))\n",
        "    print(confusion_matrix(pred_y, y_val))\n",
        "\n",
        "    err_as_lreg.append(accuracy_score(pred_y, y_val))\n",
        "    err_rs_lreg.append(recall_score(pred_y, y_val))\n",
        "    err_ps_lreg.append(precision_score(pred_y, y_val))\n",
        "    err_roc_lreg.append(roc_auc_score(y_val, prob_pred))\n",
        "    err_ll_lreg.append(log_loss(y_val, prob_pred))\n",
        "\n",
        "    pred_test = m.predict_proba(X_test1)[:,1]\n",
        "    i = i + 1\n",
        "    y_pred_tot_logreg.append(pred_test)"
      ],
      "execution_count": null,
      "outputs": []
    },
    {
      "cell_type": "code",
      "metadata": {
        "colab_type": "code",
        "id": "2502UUyen1F-",
        "colab": {}
      },
      "source": [
        "print('Mean Accuracy Score on CV-5: ', np.mean(err_as_lreg, 0))\n",
        "print('Mean Precision Score on CV-5: ', np.mean(err_ps_lreg, 0))\n",
        "print('Mean Recall Score on CV-5: ', np.mean(err_rs_lreg, 0))\n",
        "print('Mean ROC AUC Score on CV-5: ', np.mean(err_roc_lreg, 0))\n",
        "print('Mean Logloss Score on CV-5: ', np.mean(err_ll_lreg, 0))"
      ],
      "execution_count": null,
      "outputs": []
    },
    {
      "cell_type": "markdown",
      "metadata": {
        "id": "HWAI8i-d_DtL",
        "colab_type": "text"
      },
      "source": [
        "# Submission file of test set for competition"
      ]
    },
    {
      "cell_type": "code",
      "metadata": {
        "colab_type": "code",
        "id": "ubyveG6ZomrN",
        "colab": {}
      },
      "source": [
        "submission = pd.DataFrame()\n",
        "submission['SK_ID_CURR'] = test['SK_ID_CURR']\n",
        "submission['TARGET'] = np.mean(y_pred_tot_lgm, 0)\n",
        "submission.head()"
      ],
      "execution_count": null,
      "outputs": []
    },
    {
      "cell_type": "code",
      "metadata": {
        "colab_type": "code",
        "id": "RcbS4Q1lo1Vt",
        "colab": {}
      },
      "source": [
        "submission.to_csv('submission.csv', index=False)"
      ],
      "execution_count": null,
      "outputs": []
    }
  ]
}