{
  "nbformat": 4,
  "nbformat_minor": 0,
  "metadata": {
    "colab": {
      "name": "MTech-DS-DL-BilalHungund-D013-A7.ipynb",
      "provenance": [],
      "collapsed_sections": [],
      "include_colab_link": true
    },
    "kernelspec": {
      "name": "python3",
      "display_name": "Python 3"
    },
    "accelerator": "GPU"
  },
  "cells": [
    {
      "cell_type": "markdown",
      "metadata": {
        "id": "view-in-github",
        "colab_type": "text"
      },
      "source": [
        "<a href=\"https://colab.research.google.com/github/bilalProgTech/mtech-data-science/blob/master/Deep-Learning/MTech-DS-DL-BilalHungund-D013-A7.ipynb\" target=\"_parent\"><img src=\"https://colab.research.google.com/assets/colab-badge.svg\" alt=\"Open In Colab\"/></a>"
      ]
    },
    {
      "cell_type": "code",
      "metadata": {
        "id": "C4hwahP-L2m8"
      },
      "source": [
        "import keras\n",
        "from keras.datasets import cifar10\n",
        "import numpy as np\n",
        "from keras.utils import to_categorical\n",
        "from keras.models import Sequential\n",
        "from keras.layers import Conv2D, MaxPooling2D, Flatten, Dense, AveragePooling2D, Dropout\n",
        "from keras.optimizers import SGD\n",
        "\n",
        "(x_train,y_train),(x_test,y_test)=cifar10.load_data()\n",
        "\n",
        "print(x_train.shape)\n",
        "print(y_train.shape)\n",
        "print(x_test.shape)\n",
        "print(y_test.shape)\n",
        "\n",
        "x_train=x_train.astype('float32')\n",
        "x_test=x_test.astype('float32')\n",
        "# Normalize pixel values to be between 0 and 1\n",
        "x_train,x_test=x_train/255.0,x_test/255.0\n",
        "\n",
        "y_train=to_categorical(y_train,10)\n",
        "y_test=to_categorical(y_test,10)"
      ],
      "execution_count": null,
      "outputs": []
    },
    {
      "cell_type": "markdown",
      "metadata": {
        "id": "P3Eokh2JlAmb"
      },
      "source": [
        "## **LeNet-5**\n",
        "\n",
        "Reference: http://yann.lecun.com/exdb/publis/pdf/lecun-01a.pdf"
      ]
    },
    {
      "cell_type": "code",
      "metadata": {
        "id": "k1e46uImMITJ"
      },
      "source": [
        "\n",
        "#NUMBER OF FILTER INCREASE WITH DEPTH OF LAYERS\n",
        "#filter=2* num of classes\n",
        "\"\"\"\n",
        "classifier=Sequential()\n",
        "classifier.add(Conv2D(filters=6,kernel_size=(5,5),strides=(1,1),padding=\"valid\",activation=\"sigmoid\",input_shape=(32,32,3)))\n",
        "classifier.add(AveragePooling2D(pool_size=(2,2)))\n",
        "classifier.add(Conv2D(filters=16,kernel_size=(3,3),strides=(1,1),padding=\"valid\",activation=\"sigmoid\"))\n",
        "classifier.add(AveragePooling2D(pool_size=(2,2)))\n",
        "classifier.add(Flatten())\n",
        "classifier.add(Dense(units=120,activation='sigmoid'))\n",
        "classifier.add(Dense(units=84,activation='sigmoid'))\n",
        "classifier.add(Dense(units=10,activation='softmax'))\n",
        "\n",
        "classifier.compile(loss='categorical_crossentropy',metrics=['accuracy'],optimizer='adam')\n",
        "\"\"\"\n",
        "\"\"\"\n",
        "tanh,sigmoid -> sigmoid and tanh\n",
        "relu->sigmoid\n",
        "\n",
        "model_lenet=Sequential()\n",
        "model_lenet.add(Conv2D(filters=6,kernel_size=(5,5),strides=(1,1),padding=\"same\",activation=\"tanh\",input_shape=(32,32,3)))\n",
        "model_lenet.add(AveragePooling2D(pool_size=(2,2)))\n",
        "model_lenet.add(Conv2D(filters=16,kernel_size=(5,5),strides=(1,1),padding=\"same\",activation=\"tanh\"))\n",
        "model_lenet.add(AveragePooling2D(pool_size=(2,2)))\n",
        "model_lenet.add(Flatten())\n",
        "model_lenet.add(Dense(units=120,activation='tanh'))\n",
        "model_lenet.add(Dense(units=84,activation='tanh'))\n",
        "model_lenet.add(Dense(units=10,activation='sigmoid'))\n",
        "\n",
        "model_lenet.compile(loss='categorical_crossentropy',metrics=['accuracy'],optimizer='adam')\n",
        "\"\"\"\n",
        "\n",
        "classifier=Sequential()\n",
        "classifier.add(Conv2D(filters=6,kernel_size=(5,5),strides=(1,1),padding=\"valid\",activation=\"sigmoid\",input_shape=(32,32,3)))\n",
        "classifier.add(MaxPooling2D(pool_size=(2,2)))\n",
        "classifier.add(Conv2D(filters=16,kernel_size=(5,5),strides=(1,1),padding=\"valid\",activation=\"sigmoid\"))\n",
        "classifier.add(MaxPooling2D(pool_size=(2,2)))\n",
        "classifier.add(Flatten())\n",
        "classifier.add(Dense(units=120,activation='sigmoid'))\n",
        "classifier.add(Dense(units=84,activation='sigmoid'))\n",
        "classifier.add(Dense(units=10,activation='softmax'))\n",
        "\n",
        "classifier.compile(loss='mse',metrics=['accuracy'],optimizer='adam')"
      ],
      "execution_count": null,
      "outputs": []
    },
    {
      "cell_type": "code",
      "metadata": {
        "id": "uX9e-lLYQOY5"
      },
      "source": [
        "classifier.fit(x_train,y_train,epochs=100,batch_size=32,steps_per_epoch=100,validation_split=0.2)\n",
        "#model_lenet.fit(x_train,y_train,epochs=100,batch_size=32,steps_per_epoch=500,validation_data=(x_test,y_test))"
      ],
      "execution_count": null,
      "outputs": []
    },
    {
      "cell_type": "markdown",
      "metadata": {
        "id": "2vXwj3gW_iha"
      },
      "source": [
        "# **VGG-16**\n",
        "\n",
        "Reference: http://www.ijsrp.org/research-paper-1019.php?rp=P949194"
      ]
    },
    {
      "cell_type": "code",
      "metadata": {
        "id": "ltR0hn4DQrgu"
      },
      "source": [
        "model_vgg=Sequential()\n",
        "\n",
        "model_vgg.add(Conv2D(filters=64,kernel_size=(3,3),strides=(2,2),padding=\"same\",activation=\"relu\",input_shape=(32,32,3)))\n",
        "model_vgg.add(Conv2D(filters=64,kernel_size=(3,3),strides=(2,2),padding=\"same\",activation=\"relu\"))\n",
        "model_vgg.add(MaxPooling2D(pool_size=(2,2)))\n",
        "\n",
        "model_vgg.add(Conv2D(filters=128,kernel_size=(3,3),strides=(2,2),padding=\"same\",activation=\"relu\"))\n",
        "model_vgg.add(Conv2D(filters=128,kernel_size=(3,3),strides=(2,2),padding=\"same\",activation=\"relu\"))\n",
        "model_vgg.add(MaxPooling2D(pool_size=(2,2),padding=\"same\"))\n",
        "\n",
        "model_vgg.add(Conv2D(filters=256,kernel_size=(3,3),strides=(2,2),padding=\"same\",activation=\"relu\"))\n",
        "model_vgg.add(Conv2D(filters=256,kernel_size=(3,3),strides=(2,2),padding=\"same\",activation=\"relu\"))\n",
        "model_vgg.add(Conv2D(filters=256,kernel_size=(3,3),strides=(2,2),padding=\"same\",activation=\"relu\"))\n",
        "model_vgg.add(MaxPooling2D(pool_size=(2,2),padding=\"same\"))\n",
        "\n",
        "model_vgg.add(Conv2D(filters=512,kernel_size=(3,3),strides=(1,1),padding=\"same\",activation=\"relu\"))\n",
        "model_vgg.add(Conv2D(filters=512,kernel_size=(3,3),strides=(1,1),padding=\"same\",activation=\"relu\"))\n",
        "model_vgg.add(Conv2D(filters=512,kernel_size=(3,3),strides=(1,1),padding=\"same\",activation=\"relu\"))\n",
        "model_vgg.add(MaxPooling2D(pool_size=(2,2),padding=\"same\"))\n",
        "\n",
        "model_vgg.add(Conv2D(filters=512,kernel_size=(3,3),strides=(1,1),padding=\"same\",activation=\"relu\"))\n",
        "model_vgg.add(Conv2D(filters=512,kernel_size=(3,3),strides=(1,1),padding=\"same\",activation=\"relu\"))\n",
        "model_vgg.add(Conv2D(filters=512,kernel_size=(3,3),strides=(1,1),padding=\"same\",activation=\"relu\"))\n",
        "model_vgg.add(MaxPooling2D(pool_size=(2,2),padding=\"same\"))\n",
        "model_vgg.add(Flatten())\n",
        "model_vgg.add(Dense(units=128,activation='relu'))\n",
        "#model_vgg.add(Dense(units=64,activation='relu'))\n",
        "model_vgg.add(Dense(units=10,activation='softmax'))\n",
        "\n",
        "opt = SGD(lr = 0.01, momentum = 0.9)\n",
        "model_vgg.compile(loss='categorical_crossentropy',metrics=['accuracy'],optimizer=opt)"
      ],
      "execution_count": null,
      "outputs": []
    },
    {
      "cell_type": "code",
      "metadata": {
        "id": "ZbxRpakjGYoP"
      },
      "source": [
        "steps = int(x_train.shape[0] / 64)\n",
        "model_vgg.fit(x_train,y_train,epochs=50,batch_size=32,steps_per_epoch=steps,validation_data=(x_test,y_test),verbose = 1)#,steps_per_epoch=1000"
      ],
      "execution_count": null,
      "outputs": []
    },
    {
      "cell_type": "markdown",
      "metadata": {
        "id": "RMEBfMEMW9JJ"
      },
      "source": [
        "# **AlexNet**\n",
        "\n",
        "Reference: http://papers.nips.cc/paper/4824-imagenet-classification-with-deep-convolutional-neural-networks.pdf"
      ]
    },
    {
      "cell_type": "code",
      "metadata": {
        "id": "56ZZe8j8H62n"
      },
      "source": [
        "model_alex=Sequential()\n",
        "\n",
        "model_alex.add(Conv2D(filters=96,kernel_size=(11,11),strides=(4,4),padding=\"same\",activation=\"relu\",input_shape=(32,32,3)))\n",
        "#model_alex.add(Conv2D(filters=64,kernel_size=(3,3),strides=(2,2),padding=\"same\",activation=\"relu\"))\n",
        "model_alex.add(MaxPooling2D(pool_size=(2,2), strides=(2,2), padding=\"valid\"))\n",
        "\n",
        "model_alex.add(Conv2D(filters=256,kernel_size=(11,11),strides=(1,1),padding=\"same\",activation=\"relu\"))\n",
        "#model_alex.add(Conv2D(filters=128,kernel_size=(3,3),strides=(2,2),padding=\"same\",activation=\"relu\"))\n",
        "model_alex.add(MaxPooling2D(pool_size=(2,2), strides=(2,2), padding=\"valid\"))\n",
        "\n",
        "model_alex.add(Conv2D(filters=384,kernel_size=(3,3),strides=(1,1),padding=\"same\",activation=\"relu\"))\n",
        "model_alex.add(Conv2D(filters=384,kernel_size=(3,3),strides=(1,1),padding=\"same\",activation=\"relu\"))\n",
        "model_alex.add(Conv2D(filters=256,kernel_size=(3,3),strides=(1,1),padding=\"same\",activation=\"relu\"))\n",
        "model_alex.add(MaxPooling2D(pool_size=(2,2), strides=(2,2), padding=\"valid\"))\n",
        "\n",
        "model_alex.add(Flatten())\n",
        "model_alex.add(Dense(units=4096,input_shape=(32*32*3,),activation='relu'))\n",
        "model_alex.add(Dropout(0.4))\n",
        "model_alex.add(Dense(units=4096,activation='relu'))\n",
        "model_alex.add(Dropout(0.4))\n",
        "model_alex.add(Dense(units=1000,activation='relu'))\n",
        "model_alex.add(Dropout(0.4))\n",
        "model_alex.add(Dense(units=10,activation='softmax'))\n",
        "\n",
        "#opt = SGD(lr = 0.001, momentum = 0.9)\n",
        "model_alex.compile(loss='categorical_crossentropy',metrics=['accuracy'],optimizer='adam')"
      ],
      "execution_count": null,
      "outputs": []
    },
    {
      "cell_type": "code",
      "metadata": {
        "id": "ECv0PpC1cee4"
      },
      "source": [
        "steps = int(x_train.shape[0] / 64)\n",
        "model_alex.fit(x_train,y_train,epochs=50,batch_size=32,steps_per_epoch=100,validation_data=(x_test,y_test),verbose = 1)#,steps_per_epoch=1000"
      ],
      "execution_count": null,
      "outputs": []
    }
  ]
}