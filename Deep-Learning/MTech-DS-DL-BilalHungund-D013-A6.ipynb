{
  "nbformat": 4,
  "nbformat_minor": 0,
  "metadata": {
    "colab": {
      "name": "MTech-DS-DL-BilalHungund-D013-A6.ipynb",
      "provenance": [],
      "include_colab_link": true
    },
    "kernelspec": {
      "name": "python3",
      "display_name": "Python 3"
    },
    "accelerator": "GPU"
  },
  "cells": [
    {
      "cell_type": "markdown",
      "metadata": {
        "id": "view-in-github",
        "colab_type": "text"
      },
      "source": [
        "<a href=\"https://colab.research.google.com/github/bilalProgTech/mtech-data-science/blob/master/Deep-Learning/MTech-DS-DL-BilalHungund-D013-A6.ipynb\" target=\"_parent\"><img src=\"https://colab.research.google.com/assets/colab-badge.svg\" alt=\"Open In Colab\"/></a>"
      ]
    },
    {
      "cell_type": "code",
      "metadata": {
        "id": "ybQrsb3g7j_m"
      },
      "source": [
        "import tensorflow as tf\n",
        "from keras.datasets import cifar100\n",
        "\n",
        "(X_train,y_train),(X_test,y_test)=cifar100.load_data()\n",
        "print(X_train.shape)\n",
        "print(y_train.shape)\n",
        "print(X_test.shape)\n",
        "print(y_test.shape)\n",
        "\n",
        "# Normalize pixel values to be between 0 and 1\n",
        "X_train,X_test=X_train/255.0,X_test/255.0"
      ],
      "execution_count": null,
      "outputs": []
    },
    {
      "cell_type": "code",
      "metadata": {
        "id": "OTaL_oUIcHqw"
      },
      "source": [
        "from keras.models import Sequential\n",
        "from keras.layers import Dense\n",
        "\n",
        "\n",
        "model=tf.keras.models.Sequential([\n",
        "tf.keras.layers.Conv2D(32,(3,3),activation='relu',input_shape=(32,32,3)),\n",
        "tf.keras.layers.MaxPooling2D((2, 2)),\n",
        "tf.keras.layers.BatchNormalization(),\n",
        "tf.keras.layers.Dropout(0.5),\n",
        "tf.keras.layers.Conv2D(64,(3,3),activation='relu'),\n",
        "tf.keras.layers.MaxPooling2D((2, 2)),\n",
        "tf.keras.layers.BatchNormalization(),\n",
        "tf.keras.layers.Dropout(0.5),\n",
        "tf.keras.layers.Conv2D(64,(3,3),activation='relu'),\n",
        "tf.keras.layers.Flatten(),\n",
        "tf.keras.layers.Dense(128,activation='softmax'),\n",
        "tf.keras.layers.Dense(100)\n",
        "])\n",
        "\n",
        "model.summary()\n"
      ],
      "execution_count": null,
      "outputs": []
    },
    {
      "cell_type": "code",
      "metadata": {
        "id": "aM6aYG-PcL-9"
      },
      "source": [
        "model.compile(optimizer='adam',loss=tf.keras.losses.SparseCategoricalCrossentropy(from_logits=True),metrics=['accuracy'])\n",
        "history=model.fit(X_train,y_train,epochs=30,validation_data=(X_test,y_test))\n"
      ],
      "execution_count": null,
      "outputs": []
    },
    {
      "cell_type": "code",
      "metadata": {
        "id": "WX-eEVvM2IVK"
      },
      "source": [
        "import matplotlib.pyplot as plt\n",
        "\n",
        "plt.plot(history.history['accuracy'], label='accuracy')\n",
        "plt.plot(history.history['val_accuracy'], label = 'val_accuracy')\n",
        "plt.xlabel('Epoch')\n",
        "plt.ylabel('Accuracy')\n",
        "plt.ylim([0,0.1])\n",
        "plt.legend(loc='upper right')\n",
        "\n",
        "test_loss, test_acc = model.evaluate(X_test,y_test, verbose=2)"
      ],
      "execution_count": null,
      "outputs": []
    },
    {
      "cell_type": "markdown",
      "metadata": {
        "id": "Lz3wpEpW7yK_"
      },
      "source": [
        "After Hypertuning the model"
      ]
    },
    {
      "cell_type": "code",
      "metadata": {
        "id": "fdtV42PIc7Q_"
      },
      "source": [
        "from keras.models import Sequential                         \n",
        "from keras.layers import Dense, Dropout, Activation, Flatten,Conv2D,MaxPooling2D\n",
        "from keras.utils import to_categorical\n",
        "from keras.callbacks import ModelCheckpoint, EarlyStopping\n",
        "from keras.optimizers import SGD, Adam, RMSprop\n",
        "\n",
        "model_sgd = Sequential()\n",
        "model_sgd.add(Conv2D(32,(3,3),activation='relu',kernel_initializer='he_uniform',padding='same',input_shape=(32,32,3)))\n",
        "model_sgd.add(Conv2D(32,(3,3),activation='relu',kernel_initializer='he_uniform',padding='same'))\n",
        "model_sgd.add(MaxPooling2D((2,2)))\n",
        "model_sgd.add(Dropout(0.1))\n",
        "model_sgd.add(Conv2D(64,(3,3),activation='relu',kernel_initializer='he_uniform',padding='same'))\n",
        "model_sgd.add(Conv2D(64,(3,3),activation='relu',kernel_initializer='he_uniform',padding='same'))\n",
        "model_sgd.add(MaxPooling2D((2,2)))\n",
        "model_sgd.add(Dropout(0.1))\n",
        "model_sgd.add(Conv2D(128,(3,3),activation='relu',kernel_initializer='he_uniform',padding='same'))\n",
        "model_sgd.add(Conv2D(128,(3,3),activation='relu',kernel_initializer='he_uniform',padding='same'))\n",
        "model_sgd.add(MaxPooling2D((2,2)))\n",
        "model_sgd.add(Dropout(0.1))\n",
        "model_sgd.add(Flatten())\n",
        "model_sgd.add(Dense(128,activation='relu',kernel_initializer='he_uniform'))\n",
        "model_sgd.add(Dropout(0.1))\n",
        "model_sgd.add(Dense(100,activation='softmax'))\n",
        "\n",
        "\n",
        "opt = SGD(lr=0.001, momentum=0.9)\n",
        "#model_sgd.compile(optimizer=opt, loss='categorical_crossentropy', metrics=['accuracy'])\n",
        "#initial_learning_rate=0.01\n",
        "#lr_schedule=tf.keras.optimizers.schedules.ExponentialDecay(initial_learning_rate,decay_steps=100000,decay_rate=0.96,staircase=True)\n",
        "#tf.keras.optimizers.SGD(learning_rate=lr_schedule)\n",
        "model_sgd.compile(optimizer=opt,loss=tf.keras.losses.SparseCategoricalCrossentropy(from_logits=True),metrics=['accuracy'])\n",
        "\n",
        "history_sgd=model_sgd.fit(X_train,y_train,epochs=100,batch_size=64,validation_data=(X_test,y_test),verbose=1)\n"
      ],
      "execution_count": null,
      "outputs": []
    }
  ]
}